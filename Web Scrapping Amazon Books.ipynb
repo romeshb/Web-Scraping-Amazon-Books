{
 "cells": [
  {
   "cell_type": "markdown",
   "id": "fe1e68c9",
   "metadata": {},
   "source": [
    "# Building a WebScaper to gather Data of Books Selling on Amazon.in"
   ]
  },
  {
   "cell_type": "markdown",
   "id": "06050678",
   "metadata": {},
   "source": [
    "#### For Educational Purposes only"
   ]
  },
  {
   "cell_type": "code",
   "execution_count": 2,
   "id": "f150989d",
   "metadata": {},
   "outputs": [],
   "source": [
    "#importing beutiful soup 4 and selenium\n",
    "from bs4 import BeautifulSoup\n",
    "import selenium"
   ]
  },
  {
   "cell_type": "code",
   "execution_count": 5,
   "id": "01645afd",
   "metadata": {},
   "outputs": [],
   "source": [
    "from selenium import webdriver\n",
    "from webdriver_manager.chrome import ChromeDriverManager\n"
   ]
  },
  {
   "cell_type": "markdown",
   "id": "3e7a85d4",
   "metadata": {},
   "source": [
    "### Start the webdriver"
   ]
  },
  {
   "cell_type": "code",
   "execution_count": 25,
   "id": "05ae6f63",
   "metadata": {},
   "outputs": [
    {
     "name": "stderr",
     "output_type": "stream",
     "text": [
      "\n",
      "\n",
      "====== WebDriver manager ======\n",
      "Current google-chrome version is 100.0.4896\n",
      "Get LATEST chromedriver version for 100.0.4896 google-chrome\n",
      "Driver [C:\\Users\\boraw\\.wdm\\drivers\\chromedriver\\win32\\100.0.4896.60\\chromedriver.exe] found in cache\n",
      "<ipython-input-25-a8f3e5a54fdc>:2: DeprecationWarning: executable_path has been deprecated, please pass in a Service object\n",
      "  driver = webdriver.Chrome(ChromeDriverManager().install())\n"
     ]
    }
   ],
   "source": [
    "# startup the webdriver\n",
    "driver = webdriver.Chrome(ChromeDriverManager().install())"
   ]
  },
  {
   "cell_type": "code",
   "execution_count": 7,
   "id": "e9ed78a1",
   "metadata": {},
   "outputs": [],
   "source": [
    "url = \"https://www.amazon.in/\"\n",
    "driver.get(url)"
   ]
  },
  {
   "cell_type": "code",
   "execution_count": 274,
   "id": "a3450cc7",
   "metadata": {},
   "outputs": [],
   "source": [
    "def get_url(search_term):\n",
    "    \"\"\"Generates a URL from the search term.\"\"\"\n",
    "    generic_url = 'https://www.amazon.in/s?k={}'\n",
    "    search_term = search_term.replace(' ','+') # conforming to the amazon's url format for search terms with scapes\n",
    "   \n",
    "    url = generic_url.format(search_term)\n",
    "    \n",
    "    # added page query\n",
    "    url += '&page={}'\n",
    "    \n",
    "    return url"
   ]
  },
  {
   "cell_type": "code",
   "execution_count": 252,
   "id": "6d84b273",
   "metadata": {},
   "outputs": [
    {
     "data": {
      "text/plain": [
       "'https://www.amazon.in/s?k=Books&page{}'"
      ]
     },
     "execution_count": 252,
     "metadata": {},
     "output_type": "execute_result"
    }
   ],
   "source": [
    "url = get_url('Books')\n",
    "url"
   ]
  },
  {
   "cell_type": "code",
   "execution_count": 253,
   "id": "986b6802",
   "metadata": {},
   "outputs": [],
   "source": [
    "driver.get(url)"
   ]
  },
  {
   "cell_type": "markdown",
   "id": "c8b5a3d3",
   "metadata": {},
   "source": [
    "### Extract the Collection"
   ]
  },
  {
   "cell_type": "code",
   "execution_count": 129,
   "id": "38e60fe5",
   "metadata": {},
   "outputs": [],
   "source": [
    "soup = BeautifulSoup(driver.page_source, 'html.parser')"
   ]
  },
  {
   "cell_type": "code",
   "execution_count": 61,
   "id": "5c42b7d4",
   "metadata": {},
   "outputs": [],
   "source": [
    "results = soup.find_all(class_= \"a-section a-spacing-small s-padding-left-small s-padding-right-small\")"
   ]
  },
  {
   "cell_type": "code",
   "execution_count": 159,
   "id": "e626cbdb",
   "metadata": {},
   "outputs": [],
   "source": [
    "results = soup.find_all('div',{'data-component-type':'s-search-result'})"
   ]
  },
  {
   "cell_type": "code",
   "execution_count": 161,
   "id": "1cf9769c",
   "metadata": {},
   "outputs": [
    {
     "data": {
      "text/plain": [
       "22"
      ]
     },
     "execution_count": 161,
     "metadata": {},
     "output_type": "execute_result"
    }
   ],
   "source": [
    "len(results)"
   ]
  },
  {
   "cell_type": "code",
   "execution_count": 224,
   "id": "a51c0e31",
   "metadata": {},
   "outputs": [],
   "source": [
    "item = results[0]"
   ]
  },
  {
   "cell_type": "code",
   "execution_count": 225,
   "id": "90a0da23",
   "metadata": {},
   "outputs": [],
   "source": [
    "atag = item.h2.a"
   ]
  },
  {
   "cell_type": "code",
   "execution_count": 226,
   "id": "2ec57eb0",
   "metadata": {},
   "outputs": [
    {
     "data": {
      "text/plain": [
       "'How To Win Friends & Influence People, International Bestseller'"
      ]
     },
     "execution_count": 226,
     "metadata": {},
     "output_type": "execute_result"
    }
   ],
   "source": [
    "title = atag.text.strip()\n",
    "title"
   ]
  },
  {
   "cell_type": "code",
   "execution_count": 227,
   "id": "4b36a612",
   "metadata": {},
   "outputs": [
    {
     "data": {
      "text/plain": [
       "'https:amazon.in/gp/slredirect/picassoRedirect.html/ref=pa_sp_atf_aps_sr_pg1_1?ie=UTF8&adId=A03269371LC14WGRP6KNN&url=%2FFriends-Influence-People-International-Bestseller%2Fdp%2F8194899133%2Fref%3Dsr_1_1_sspa%3Fkeywords%3DBooks%26qid%3D1649696266%26sr%3D8-1-spons%26psc%3D1&qualifier=1649696266&id=6708276933000838&widgetName=sp_atf'"
      ]
     },
     "execution_count": 227,
     "metadata": {},
     "output_type": "execute_result"
    }
   ],
   "source": [
    "product_url = \"https:amazon.in\" + atag.get('href')\n",
    "product_url"
   ]
  },
  {
   "cell_type": "code",
   "execution_count": 228,
   "id": "cc1382e4",
   "metadata": {},
   "outputs": [],
   "source": [
    "price_parent = item.find('span','a-price')"
   ]
  },
  {
   "cell_type": "code",
   "execution_count": 267,
   "id": "441a0f16",
   "metadata": {},
   "outputs": [
    {
     "data": {
      "text/plain": [
       "'109'"
      ]
     },
     "execution_count": 267,
     "metadata": {},
     "output_type": "execute_result"
    }
   ],
   "source": [
    "price_parent.find('span','a-offscreen').text[1:]"
   ]
  },
  {
   "cell_type": "code",
   "execution_count": 230,
   "id": "1c457ee7",
   "metadata": {},
   "outputs": [
    {
     "data": {
      "text/plain": [
       "'4.5 out of 5 stars'"
      ]
     },
     "execution_count": 230,
     "metadata": {},
     "output_type": "execute_result"
    }
   ],
   "source": [
    "rating = item.i.text\n",
    "rating"
   ]
  },
  {
   "cell_type": "code",
   "execution_count": 231,
   "id": "45d2da70",
   "metadata": {},
   "outputs": [
    {
     "data": {
      "text/plain": [
       "'63,852'"
      ]
     },
     "execution_count": 231,
     "metadata": {},
     "output_type": "execute_result"
    }
   ],
   "source": [
    "rating_count  = item.find('span',{\"class\":\"a-size-base s-underline-text\"}).text\n",
    "rating_count"
   ]
  },
  {
   "cell_type": "code",
   "execution_count": 233,
   "id": "e77d9d5a",
   "metadata": {},
   "outputs": [
    {
     "data": {
      "text/plain": [
       "'Dale Carnegie'"
      ]
     },
     "execution_count": 233,
     "metadata": {},
     "output_type": "execute_result"
    }
   ],
   "source": [
    "author = item.find('a',{'class':'a-size-base a-link-normal s-underline-text s-underline-link-text s-link-style'}).text.strip()\n",
    "author"
   ]
  },
  {
   "cell_type": "markdown",
   "id": "af501511",
   "metadata": {},
   "source": [
    "### General Function for getting details"
   ]
  },
  {
   "cell_type": "code",
   "execution_count": 237,
   "id": "b910402a",
   "metadata": {},
   "outputs": [],
   "source": [
    "def extract_details(item):\n",
    "    \"\"\"Extracts details of a single record\"\"\"\n",
    "    atag = item.h2.a \n",
    "    title = atag.text.strip()\n",
    "    \n",
    "    product_url = \"https://amazon.in\" + atag.get('href')\n",
    "    price_parent = item.find('span','a-price')\n",
    "    price = price_parent.find('span','a-offscreen').text[1:]\n",
    "    rating = item.i.text\n",
    "    rating_count  = item.find('span',{\"class\":\"a-size-base s-underline-text\"}).text\n",
    "    \n",
    "    try: # used try block as some author names are missing\n",
    "        author = item.find('a',{'class':'a-size-base a-link-normal s-underline-text s-underline-link-text s-link-style'}).text.strip()\n",
    "    except AttributeError:\n",
    "        author = 'unknown'\n",
    "        \n",
    "    output = (title,author,product_url,price,rating, rating_count)\n",
    "    \n",
    "    return output\n"
   ]
  },
  {
   "cell_type": "code",
   "execution_count": 238,
   "id": "5c2b1256",
   "metadata": {},
   "outputs": [],
   "source": [
    "records = []\n",
    "results = soup.find_all('div',{'data-component-type':'s-search-result'})\n",
    "\n",
    "for item in results:\n",
    "    records.append(extract_details(item))"
   ]
  },
  {
   "cell_type": "code",
   "execution_count": 239,
   "id": "5a31dd52",
   "metadata": {},
   "outputs": [
    {
     "data": {
      "text/plain": [
       "[('How To Win Friends & Influence People, International Bestseller',\n",
       "  'Dale Carnegie',\n",
       "  'https://amazon.in/gp/slredirect/picassoRedirect.html/ref=pa_sp_atf_aps_sr_pg1_1?ie=UTF8&adId=A03269371LC14WGRP6KNN&url=%2FFriends-Influence-People-International-Bestseller%2Fdp%2F8194899133%2Fref%3Dsr_1_1_sspa%3Fkeywords%3DBooks%26qid%3D1649696266%26sr%3D8-1-spons%26psc%3D1&qualifier=1649696266&id=6708276933000838&widgetName=sp_atf',\n",
       "  '₹109',\n",
       "  '4.5 out of 5 stars',\n",
       "  '63,852'),\n",
       " ('Great Truths That Set Us Free',\n",
       "  'unknown',\n",
       "  'https://amazon.in/gp/slredirect/picassoRedirect.html/ref=pa_sp_atf_aps_sr_pg1_1?ie=UTF8&adId=A075246620I5BXDEL7L0X&url=%2FGreat-Truths-That-Set-Free%2Fdp%2F9389053803%2Fref%3Dsr_1_2_sspa%3Fkeywords%3DBooks%26qid%3D1649696266%26sr%3D8-2-spons%26psc%3D1&qualifier=1649696266&id=6708276933000838&widgetName=sp_atf',\n",
       "  '₹109',\n",
       "  '4.3 out of 5 stars',\n",
       "  '121'),\n",
       " ('Oswaal CBSE Term 2 Science Class 10 Sample Question Paper Book (For Term-2 2022 Exam)',\n",
       "  'Oswaal Editorial Board',\n",
       "  'https://amazon.in/Oswaal-Science-Sample-Question-Term-2/dp/935463897X/ref=sr_1_3?keywords=Books&qid=1649696266&sr=8-3',\n",
       "  '₹111',\n",
       "  '4.5 out of 5 stars',\n",
       "  '63'),\n",
       " ('The Psychology of Money',\n",
       "  'Morgan Housel',\n",
       "  'https://amazon.in/Psychology-Money-Morgan-Housel/dp/9390166268/ref=sr_1_4?keywords=Books&qid=1649696266&sr=8-4',\n",
       "  '₹321',\n",
       "  '4.6 out of 5 stars',\n",
       "  '30,562'),\n",
       " ('The Power of Your Subconscious Mind',\n",
       "  'Joseph Murphy',\n",
       "  'https://amazon.in/Power-Your-Subconscious-Mind-Success/dp/8172345666/ref=sr_1_5?keywords=Books&qid=1649696266&sr=8-5',\n",
       "  '₹105',\n",
       "  '4.5 out of 5 stars',\n",
       "  '51,029'),\n",
       " ('Atomic Habits: The life-changing million copy bestseller',\n",
       "  'James Clear',\n",
       "  'https://amazon.in/Atomic-Habits-James-Clear/dp/1847941834/ref=sr_1_6?keywords=Books&qid=1649696266&sr=8-6',\n",
       "  '₹512',\n",
       "  '4.6 out of 5 stars',\n",
       "  '37,396'),\n",
       " ('Rich Dad Poor Dad: What the Rich Teach Their Kids About Money That the Poor and Middle Class Do Not!',\n",
       "  'Robert T. Kiyosaki',\n",
       "  'https://amazon.in/Rich-Dad-Poor-Middle-Updates/dp/1612680194/ref=sr_1_7?keywords=Books&qid=1649696266&sr=8-7',\n",
       "  '₹372',\n",
       "  '4.6 out of 5 stars',\n",
       "  '56,517'),\n",
       " ('My First Library: Boxset of 10 Board Books for Kids',\n",
       "  'Wonder House Books',\n",
       "  'https://amazon.in/My-First-Library-Boxset-Board/dp/9387779262/ref=sr_1_8?keywords=Books&qid=1649696266&sr=8-8',\n",
       "  '₹399',\n",
       "  '4.5 out of 5 stars',\n",
       "  '48,028'),\n",
       " ('My First Book of Pencil Control : Practice Pattern Writing (Full Color Pages): Patterns Practice book for kids (Pattern Writing)',\n",
       "  'unknown',\n",
       "  'https://amazon.in/First-Book-Patterns-Pencil-Control/dp/9387779319/ref=sr_1_9?keywords=Books&qid=1649696266&sr=8-9',\n",
       "  '₹89',\n",
       "  '4.4 out of 5 stars',\n",
       "  '15,915'),\n",
       " ('Brain Activity Book for Kids - 200+ Activities for Age 3+',\n",
       "  'unknown',\n",
       "  'https://amazon.in/Brain-Activity-Book-Kids-Activities/dp/9391924298/ref=sr_1_10?keywords=Books&qid=1649696266&sr=8-10',\n",
       "  '₹95',\n",
       "  '4.5 out of 5 stars',\n",
       "  '407'),\n",
       " ('Before You Start Up: How to Prepare to Make Your Startup Dream a Reality',\n",
       "  'Pankaj Goyal',\n",
       "  'https://amazon.in/gp/slredirect/picassoRedirect.html/ref=pa_sp_mtf_aps_sr_pg1_1?ie=UTF8&adId=A103486214AAP2WX6SL55&url=%2FBefore-You-Start-Up-Prepare%2Fdp%2F8175994401%2Fref%3Dsr_1_11_sspa%3Fkeywords%3DBooks%26qid%3D1649696266%26sr%3D8-11-spons%26psc%3D1&qualifier=1649696266&id=6708276933000838&widgetName=sp_mtf',\n",
       "  '₹173',\n",
       "  '4.3 out of 5 stars',\n",
       "  '1,608'),\n",
       " ('The Power of A Positive Attitude: Your Road To Success',\n",
       "  'Roger Fritz',\n",
       "  'https://amazon.in/gp/slredirect/picassoRedirect.html/ref=pa_sp_mtf_aps_sr_pg1_1?ie=UTF8&adId=A03079692OYY3ZC13BXNX&url=%2FPower-Positive-Attitude-Your-Success%2Fdp%2F9389432642%2Fref%3Dsr_1_12_sspa%3Fkeywords%3DBooks%26qid%3D1649696266%26sr%3D8-12-spons%26psc%3D1&qualifier=1649696266&id=6708276933000838&widgetName=sp_mtf',\n",
       "  '₹99',\n",
       "  '4.4 out of 5 stars',\n",
       "  '1,680'),\n",
       " ('Ikigai: The Japanese secret to a long and happy life',\n",
       "  'Héctor García',\n",
       "  'https://amazon.in/Ikigai-H%C3%A9ctor-Garc%C3%ADa/dp/178633089X/ref=sr_1_13?keywords=Books&qid=1649696266&sr=8-13',\n",
       "  '₹360',\n",
       "  '4.6 out of 5 stars',\n",
       "  '30,855'),\n",
       " ('GIKSO 100 Maths Puzzles Book - Brain Boosting Mathematical Activities for Age 7+ Years Old Kids | Game Book (English) - Reprinted 2021',\n",
       "  'unknown',\n",
       "  'https://amazon.in/GIKSO-100-Maths-Puzzles-Book/dp/8193864999/ref=sr_1_14?keywords=Books&qid=1649696266&sr=8-14',\n",
       "  '₹170',\n",
       "  '4.3 out of 5 stars',\n",
       "  '2,163'),\n",
       " (\"Grandma's Bag of Stories: Collection of 20+ Illustrated short stories, traditional Indian folk tales for all ages for children of all ages by Sudha Murty\",\n",
       "  'unknown',\n",
       "  'https://amazon.in/Grandmas-Bag-Stories-Sudha-Murty/dp/0143333623/ref=sr_1_15?keywords=Books&qid=1649696266&sr=8-15',\n",
       "  '₹158',\n",
       "  '4.6 out of 5 stars',\n",
       "  '13,330'),\n",
       " ('My First Mythology Tale (Illustrated) (Set of 5 Books) - Mahabharata, Krishna, Hanuman, Ganesha, Ramayana - Story Book for Kids',\n",
       "  'Maple Press',\n",
       "  'https://amazon.in/First-Mythology-Tale-Illustrated-Books/dp/9390292964/ref=sr_1_16?keywords=Books&qid=1649696266&sr=8-16',\n",
       "  '₹180',\n",
       "  '4.5 out of 5 stars',\n",
       "  '3,710'),\n",
       " (\"Karma: A Yogi's Guide to Crafting Your Destiny | Spirituality, Self-improvement & Self help books by Sadhguru | Penguin\",\n",
       "  'Sadhguru',\n",
       "  'https://amazon.in/Karma-PUBLISHERS-BESTSELLER-spirituality-self-improvement/dp/0143452673/ref=sr_1_17?keywords=Books&qid=1649696266&sr=8-17',\n",
       "  '₹242',\n",
       "  '4.7 out of 5 stars',\n",
       "  '8,027'),\n",
       " ('Story book: 365 Stories from the Vedas, the Upanishads and the Puranas for Children (with colourful illustrations) (365 series)',\n",
       "  'unknown',\n",
       "  'https://amazon.in/Stories-Upanishads-Puranas-Children-Hardcover/dp/9352768647/ref=sr_1_18?keywords=Books&qid=1649696266&sr=8-18',\n",
       "  '₹500',\n",
       "  '4.6 out of 5 stars',\n",
       "  '272'),\n",
       " ('English Cursive Writing Practice 3 Books 288 Pages 3-8 Year Kids Full Modules Pre-Strokes Small Letters Capital Letters Joining Letters Words Sentences Mastering Handwriting Pencil Control Improvement',\n",
       "  'unknown',\n",
       "  'https://amazon.in/PractiZ-All-One-Kindergarten-Learning-2018/dp/B07288C9MC/ref=sr_1_19?keywords=Books&qid=1649696266&sr=8-19',\n",
       "  '₹289',\n",
       "  '4.5 out of 5 stars',\n",
       "  '213'),\n",
       " ('Story books- Moral Stories for Children -Set of 10 Illustrated Books (Packed in a Gift Box)',\n",
       "  'unknown',\n",
       "  'https://amazon.in/books-Stories-Children-Illustrated-Packed/dp/9391258492/ref=sr_1_20?keywords=Books&qid=1649696266&sr=8-20',\n",
       "  '₹225',\n",
       "  '4.3 out of 5 stars',\n",
       "  '61'),\n",
       " ('The Wealth of Nations',\n",
       "  'Adam Smith',\n",
       "  'https://amazon.in/gp/slredirect/picassoRedirect.html/ref=pa_sp_btf_aps_sr_pg1_1?ie=UTF8&adId=A03115171NMVTK5LHDH63&url=%2FWealth-Nations-Adam-Smith%2Fdp%2F9387779467%2Fref%3Dsr_1_21_sspa%3Fkeywords%3DBooks%26qid%3D1649696266%26sr%3D8-21-spons%26psc%3D1&qualifier=1649696266&id=6708276933000838&widgetName=sp_btf',\n",
       "  '₹249',\n",
       "  '4.5 out of 5 stars',\n",
       "  '1,281'),\n",
       " ('Think & Grow Rich: THE 21st CENTURY EDITION',\n",
       "  'Napoleon Hill',\n",
       "  'https://amazon.in/gp/slredirect/picassoRedirect.html/ref=pa_sp_btf_aps_sr_pg1_1?ie=UTF8&adId=A0060117LIFTGIKFU8AN&url=%2FThink-Grow-Rich-21st-CENTURY%2Fdp%2F9389931525%2Fref%3Dsr_1_22_sspa%3Fkeywords%3DBooks%26qid%3D1649696266%26sr%3D8-22-spons%26psc%3D1&qualifier=1649696266&id=6708276933000838&widgetName=sp_btf',\n",
       "  '₹99',\n",
       "  '4.5 out of 5 stars',\n",
       "  '2,010')]"
      ]
     },
     "execution_count": 239,
     "metadata": {},
     "output_type": "execute_result"
    }
   ],
   "source": [
    "records"
   ]
  },
  {
   "cell_type": "markdown",
   "id": "688239cf",
   "metadata": {},
   "source": [
    "\n",
    "# Put it all together"
   ]
  },
  {
   "cell_type": "code",
   "execution_count": 281,
   "id": "76e5a5c2",
   "metadata": {},
   "outputs": [],
   "source": [
    "def get_url(search_term):\n",
    "    \"\"\"Generates a URL from the search term.\"\"\"\n",
    "    generic_url = 'https://www.amazon.in/s?k={}'\n",
    "    search_term = search_term.replace(' ','+') # conforming to the amazon's url format for search terms with scapes\n",
    "   \n",
    "    url = generic_url.format(search_term)\n",
    "    \n",
    "    # added page query\n",
    "    url += '&page={}'\n",
    "    \n",
    "    return url\n",
    "def extract_details(item):\n",
    "    \"\"\"Extracts details of a single record\"\"\"\n",
    "    atag = item.h2.a \n",
    "    title = atag.text.strip()\n",
    "    \n",
    "    product_url = \"https://amazon.in\" + atag.get('href')\n",
    "    price_parent = item.find('span','a-price')\n",
    "    \n",
    "    try: # used try block for errors due to missing values\n",
    "        price = price_parent.find('span','a-offscreen').text[1:]\n",
    "        author = item.find('a',{'class':'a-size-base a-link-normal s-underline-text s-underline-link-text s-link-style'}).text.strip()\n",
    "        rating = item.i.text\n",
    "        rating_count  = item.find('span',{\"class\":\"a-size-base s-underline-text\"}).text\n",
    "    except AttributeError:\n",
    "        price = 'unkown'\n",
    "        author = 'unknown'\n",
    "        rating = 'unknown'\n",
    "        rating_count = 'unknown'\n",
    "        \n",
    "    output = (title,author,product_url,price,rating, rating_count)\n",
    "    return output\n",
    "\n",
    "\n",
    "def main(search_term):\n",
    "    \"\"\"Run Main program\"\"\"\n",
    "    # startup the webdriver\n",
    "    driver = webdriver.Chrome(ChromeDriverManager().install())\n",
    "    records = []\n",
    "    url = get_url(search_term)\n",
    "    \n",
    "    for page in range(1,21):\n",
    "        driver.get(url.format(page))\n",
    "        soup = BeautifulSoup(driver.page_source, 'html.parser')\n",
    "        results = soup.find_all('div',{'data-component-type':'s-search-result'})\n",
    "        \n",
    "        for item in results:\n",
    "            record = extract_details(item)\n",
    "            if record:\n",
    "                records.append(record)\n",
    "    \n",
    "    driver.close()\n",
    "    df = pd.DataFrame(records)\n",
    "    df.columns = ['Title','Author','Link','Price',\"Rating\",'Rating Count']\n",
    "    df.to_csv('amazon_books_records.csv', sep=',')\n"
   ]
  },
  {
   "cell_type": "code",
   "execution_count": 291,
   "id": "bd95d6e6",
   "metadata": {},
   "outputs": [
    {
     "data": {
      "text/plain": [
       "'https://www.amazon.in/s?k=Books&page={}'"
      ]
     },
     "execution_count": 291,
     "metadata": {},
     "output_type": "execute_result"
    }
   ],
   "source": [
    "url = get_url('Books')\n",
    "url"
   ]
  },
  {
   "cell_type": "code",
   "execution_count": 292,
   "id": "c61065a2",
   "metadata": {},
   "outputs": [
    {
     "name": "stdout",
     "output_type": "stream",
     "text": [
      "https://www.amazon.in/s?k=Books&page=1\n",
      "https://www.amazon.in/s?k=Books&page=2\n",
      "https://www.amazon.in/s?k=Books&page=3\n",
      "https://www.amazon.in/s?k=Books&page=4\n",
      "https://www.amazon.in/s?k=Books&page=5\n",
      "https://www.amazon.in/s?k=Books&page=6\n",
      "https://www.amazon.in/s?k=Books&page=7\n",
      "https://www.amazon.in/s?k=Books&page=8\n",
      "https://www.amazon.in/s?k=Books&page=9\n",
      "https://www.amazon.in/s?k=Books&page=10\n",
      "https://www.amazon.in/s?k=Books&page=11\n",
      "https://www.amazon.in/s?k=Books&page=12\n",
      "https://www.amazon.in/s?k=Books&page=13\n",
      "https://www.amazon.in/s?k=Books&page=14\n",
      "https://www.amazon.in/s?k=Books&page=15\n",
      "https://www.amazon.in/s?k=Books&page=16\n",
      "https://www.amazon.in/s?k=Books&page=17\n",
      "https://www.amazon.in/s?k=Books&page=18\n",
      "https://www.amazon.in/s?k=Books&page=19\n",
      "https://www.amazon.in/s?k=Books&page=20\n"
     ]
    }
   ],
   "source": [
    "for page in range(1,21):\n",
    "    print(url.format(page))"
   ]
  },
  {
   "cell_type": "code",
   "execution_count": 282,
   "id": "9b12cdaa",
   "metadata": {},
   "outputs": [
    {
     "name": "stderr",
     "output_type": "stream",
     "text": [
      "\n",
      "\n",
      "====== WebDriver manager ======\n",
      "Current google-chrome version is 100.0.4896\n",
      "Get LATEST chromedriver version for 100.0.4896 google-chrome\n",
      "Driver [C:\\Users\\boraw\\.wdm\\drivers\\chromedriver\\win32\\100.0.4896.60\\chromedriver.exe] found in cache\n",
      "<ipython-input-281-b37593881384>:45: DeprecationWarning: executable_path has been deprecated, please pass in a Service object\n",
      "  driver = webdriver.Chrome(ChromeDriverManager().install())\n"
     ]
    }
   ],
   "source": [
    "main('Books')"
   ]
  },
  {
   "cell_type": "markdown",
   "id": "30573b59",
   "metadata": {},
   "source": [
    "#### Using the main function we can combine coret "
   ]
  }
 ],
 "metadata": {
  "kernelspec": {
   "display_name": "Python 3",
   "language": "python",
   "name": "python3"
  },
  "language_info": {
   "codemirror_mode": {
    "name": "ipython",
    "version": 3
   },
   "file_extension": ".py",
   "mimetype": "text/x-python",
   "name": "python",
   "nbconvert_exporter": "python",
   "pygments_lexer": "ipython3",
   "version": "3.8.8"
  }
 },
 "nbformat": 4,
 "nbformat_minor": 5
}
