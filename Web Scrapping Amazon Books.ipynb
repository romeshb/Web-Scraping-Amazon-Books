{
 "cells": [
  {
   "cell_type": "markdown",
   "id": "fe1e68c9",
   "metadata": {},
   "source": [
    "# Building a WebScaper to gather Data of Books Selling on Amazon.in"
   ]
  },
  {
   "cell_type": "markdown",
   "id": "06050678",
   "metadata": {},
   "source": [
    "#### This Jupyter Notebook was used to test and write code, Final program can also be ran from 'main.py'"
   ]
  },
  {
   "cell_type": "code",
   "execution_count": 16,
   "id": "f150989d",
   "metadata": {},
   "outputs": [],
   "source": [
    "#importing BeautifulSoup 4 and selenium\n",
    "from bs4 import BeautifulSoup\n",
    "import selenium\n",
    "import pandas as pd"
   ]
  },
  {
   "cell_type": "code",
   "execution_count": 17,
   "id": "01645afd",
   "metadata": {},
   "outputs": [],
   "source": [
    "from selenium import webdriver\n",
    "from webdriver_manager.chrome import ChromeDriverManager"
   ]
  },
  {
   "cell_type": "code",
   "execution_count": 18,
   "id": "bb00527c",
   "metadata": {},
   "outputs": [],
   "source": [
    "import pandas as pd"
   ]
  },
  {
   "cell_type": "markdown",
   "id": "3e7a85d4",
   "metadata": {},
   "source": [
    "### Start the webdriver"
   ]
  },
  {
   "cell_type": "code",
   "execution_count": 19,
   "id": "05ae6f63",
   "metadata": {},
   "outputs": [
    {
     "name": "stderr",
     "output_type": "stream",
     "text": [
      "\n",
      "\n",
      "====== WebDriver manager ======\n",
      "Current google-chrome version is 100.0.4896\n",
      "Get LATEST chromedriver version for 100.0.4896 google-chrome\n",
      "Driver [C:\\Users\\boraw\\.wdm\\drivers\\chromedriver\\win32\\100.0.4896.60\\chromedriver.exe] found in cache\n",
      "<ipython-input-19-a8f3e5a54fdc>:2: DeprecationWarning: executable_path has been deprecated, please pass in a Service object\n",
      "  driver = webdriver.Chrome(ChromeDriverManager().install())\n"
     ]
    }
   ],
   "source": [
    "# startup the webdriver\n",
    "driver = webdriver.Chrome(ChromeDriverManager().install())"
   ]
  },
  {
   "cell_type": "code",
   "execution_count": 19,
   "id": "e9ed78a1",
   "metadata": {},
   "outputs": [],
   "source": [
    "url = \"https://www.amazon.in/\"\n",
    "driver.get(url)"
   ]
  },
  {
   "cell_type": "code",
   "execution_count": 20,
   "id": "a3450cc7",
   "metadata": {},
   "outputs": [],
   "source": [
    "def get_url(search_term):\n",
    "    \"\"\"Generates a URL from the search term.\"\"\"\n",
    "    generic_url = 'https://www.amazon.in/s?k={}'\n",
    "    search_term = search_term.replace(' ','+') # conforming to the amazon's url format for search terms with scapes\n",
    "   \n",
    "    url = generic_url.format(search_term)\n",
    "    \n",
    "    # added page query\n",
    "    url += '&page={}'\n",
    "    \n",
    "    return url"
   ]
  },
  {
   "cell_type": "code",
   "execution_count": 145,
   "id": "6d84b273",
   "metadata": {},
   "outputs": [
    {
     "data": {
      "text/plain": [
       "'https://www.amazon.in/s?k=Books&page={}'"
      ]
     },
     "execution_count": 145,
     "metadata": {},
     "output_type": "execute_result"
    }
   ],
   "source": [
    "url = get_url('Books')\n",
    "url"
   ]
  },
  {
   "cell_type": "code",
   "execution_count": 146,
   "id": "986b6802",
   "metadata": {},
   "outputs": [
    {
     "ename": "WebDriverException",
     "evalue": "Message: chrome not reachable\n  (Session info: chrome=100.0.4896.127)\nStacktrace:\nBacktrace:\n\tOrdinal0 [0x01117413+2389011]\n\tOrdinal0 [0x010A9F61+1941345]\n\tOrdinal0 [0x00F9C520+836896]\n\tOrdinal0 [0x00F90682+788098]\n\tOrdinal0 [0x00F90EB8+790200]\n\tOrdinal0 [0x00F92752+796498]\n\tOrdinal0 [0x00F8C0D9+770265]\n\tOrdinal0 [0x00F9D9D0+842192]\n\tOrdinal0 [0x00FF3AE2+1194722]\n\tOrdinal0 [0x00FE3F66+1130342]\n\tOrdinal0 [0x00FBE546+976198]\n\tOrdinal0 [0x00FBF456+980054]\n\tGetHandleVerifier [0x012C9632+1727522]\n\tGetHandleVerifier [0x0137BA4D+2457661]\n\tGetHandleVerifier [0x011AEB81+569713]\n\tGetHandleVerifier [0x011ADD76+566118]\n\tOrdinal0 [0x010B0B2B+1968939]\n\tOrdinal0 [0x010B5988+1989000]\n\tOrdinal0 [0x010B5A75+1989237]\n\tOrdinal0 [0x010BECB1+2026673]\n\tBaseThreadInitThunk [0x75AE6739+25]\n\tRtlGetFullPathName_UEx [0x778B8E7F+1215]\n\tRtlGetFullPathName_UEx [0x778B8E4D+1165]\n",
     "output_type": "error",
     "traceback": [
      "\u001b[1;31m---------------------------------------------------------------------------\u001b[0m",
      "\u001b[1;31mWebDriverException\u001b[0m                        Traceback (most recent call last)",
      "\u001b[1;32m<ipython-input-146-4848907ef2cb>\u001b[0m in \u001b[0;36m<module>\u001b[1;34m\u001b[0m\n\u001b[1;32m----> 1\u001b[1;33m \u001b[0mdriver\u001b[0m\u001b[1;33m.\u001b[0m\u001b[0mget\u001b[0m\u001b[1;33m(\u001b[0m\u001b[0murl\u001b[0m\u001b[1;33m)\u001b[0m\u001b[1;33m\u001b[0m\u001b[1;33m\u001b[0m\u001b[0m\n\u001b[0m",
      "\u001b[1;32mE:\\Romesh\\Anaconda\\lib\\site-packages\\selenium\\webdriver\\remote\\webdriver.py\u001b[0m in \u001b[0;36mget\u001b[1;34m(self, url)\u001b[0m\n\u001b[0;32m    435\u001b[0m         \u001b[0mLoads\u001b[0m \u001b[0ma\u001b[0m \u001b[0mweb\u001b[0m \u001b[0mpage\u001b[0m \u001b[1;32min\u001b[0m \u001b[0mthe\u001b[0m \u001b[0mcurrent\u001b[0m \u001b[0mbrowser\u001b[0m \u001b[0msession\u001b[0m\u001b[1;33m.\u001b[0m\u001b[1;33m\u001b[0m\u001b[1;33m\u001b[0m\u001b[0m\n\u001b[0;32m    436\u001b[0m         \"\"\"\n\u001b[1;32m--> 437\u001b[1;33m         \u001b[0mself\u001b[0m\u001b[1;33m.\u001b[0m\u001b[0mexecute\u001b[0m\u001b[1;33m(\u001b[0m\u001b[0mCommand\u001b[0m\u001b[1;33m.\u001b[0m\u001b[0mGET\u001b[0m\u001b[1;33m,\u001b[0m \u001b[1;33m{\u001b[0m\u001b[1;34m'url'\u001b[0m\u001b[1;33m:\u001b[0m \u001b[0murl\u001b[0m\u001b[1;33m}\u001b[0m\u001b[1;33m)\u001b[0m\u001b[1;33m\u001b[0m\u001b[1;33m\u001b[0m\u001b[0m\n\u001b[0m\u001b[0;32m    438\u001b[0m \u001b[1;33m\u001b[0m\u001b[0m\n\u001b[0;32m    439\u001b[0m     \u001b[1;33m@\u001b[0m\u001b[0mproperty\u001b[0m\u001b[1;33m\u001b[0m\u001b[1;33m\u001b[0m\u001b[0m\n",
      "\u001b[1;32mE:\\Romesh\\Anaconda\\lib\\site-packages\\selenium\\webdriver\\remote\\webdriver.py\u001b[0m in \u001b[0;36mexecute\u001b[1;34m(self, driver_command, params)\u001b[0m\n\u001b[0;32m    423\u001b[0m         \u001b[0mresponse\u001b[0m \u001b[1;33m=\u001b[0m \u001b[0mself\u001b[0m\u001b[1;33m.\u001b[0m\u001b[0mcommand_executor\u001b[0m\u001b[1;33m.\u001b[0m\u001b[0mexecute\u001b[0m\u001b[1;33m(\u001b[0m\u001b[0mdriver_command\u001b[0m\u001b[1;33m,\u001b[0m \u001b[0mparams\u001b[0m\u001b[1;33m)\u001b[0m\u001b[1;33m\u001b[0m\u001b[1;33m\u001b[0m\u001b[0m\n\u001b[0;32m    424\u001b[0m         \u001b[1;32mif\u001b[0m \u001b[0mresponse\u001b[0m\u001b[1;33m:\u001b[0m\u001b[1;33m\u001b[0m\u001b[1;33m\u001b[0m\u001b[0m\n\u001b[1;32m--> 425\u001b[1;33m             \u001b[0mself\u001b[0m\u001b[1;33m.\u001b[0m\u001b[0merror_handler\u001b[0m\u001b[1;33m.\u001b[0m\u001b[0mcheck_response\u001b[0m\u001b[1;33m(\u001b[0m\u001b[0mresponse\u001b[0m\u001b[1;33m)\u001b[0m\u001b[1;33m\u001b[0m\u001b[1;33m\u001b[0m\u001b[0m\n\u001b[0m\u001b[0;32m    426\u001b[0m             response['value'] = self._unwrap_value(\n\u001b[0;32m    427\u001b[0m                 response.get('value', None))\n",
      "\u001b[1;32mE:\\Romesh\\Anaconda\\lib\\site-packages\\selenium\\webdriver\\remote\\errorhandler.py\u001b[0m in \u001b[0;36mcheck_response\u001b[1;34m(self, response)\u001b[0m\n\u001b[0;32m    245\u001b[0m                 \u001b[0malert_text\u001b[0m \u001b[1;33m=\u001b[0m \u001b[0mvalue\u001b[0m\u001b[1;33m[\u001b[0m\u001b[1;34m'alert'\u001b[0m\u001b[1;33m]\u001b[0m\u001b[1;33m.\u001b[0m\u001b[0mget\u001b[0m\u001b[1;33m(\u001b[0m\u001b[1;34m'text'\u001b[0m\u001b[1;33m)\u001b[0m\u001b[1;33m\u001b[0m\u001b[1;33m\u001b[0m\u001b[0m\n\u001b[0;32m    246\u001b[0m             \u001b[1;32mraise\u001b[0m \u001b[0mexception_class\u001b[0m\u001b[1;33m(\u001b[0m\u001b[0mmessage\u001b[0m\u001b[1;33m,\u001b[0m \u001b[0mscreen\u001b[0m\u001b[1;33m,\u001b[0m \u001b[0mstacktrace\u001b[0m\u001b[1;33m,\u001b[0m \u001b[0malert_text\u001b[0m\u001b[1;33m)\u001b[0m  \u001b[1;31m# type: ignore[call-arg]  # mypy is not smart enough here\u001b[0m\u001b[1;33m\u001b[0m\u001b[1;33m\u001b[0m\u001b[0m\n\u001b[1;32m--> 247\u001b[1;33m         \u001b[1;32mraise\u001b[0m \u001b[0mexception_class\u001b[0m\u001b[1;33m(\u001b[0m\u001b[0mmessage\u001b[0m\u001b[1;33m,\u001b[0m \u001b[0mscreen\u001b[0m\u001b[1;33m,\u001b[0m \u001b[0mstacktrace\u001b[0m\u001b[1;33m)\u001b[0m\u001b[1;33m\u001b[0m\u001b[1;33m\u001b[0m\u001b[0m\n\u001b[0m\u001b[0;32m    248\u001b[0m \u001b[1;33m\u001b[0m\u001b[0m\n\u001b[0;32m    249\u001b[0m     \u001b[1;32mdef\u001b[0m \u001b[0m_value_or_default\u001b[0m\u001b[1;33m(\u001b[0m\u001b[0mself\u001b[0m\u001b[1;33m,\u001b[0m \u001b[0mobj\u001b[0m\u001b[1;33m:\u001b[0m \u001b[0mMapping\u001b[0m\u001b[1;33m[\u001b[0m\u001b[0m_KT\u001b[0m\u001b[1;33m,\u001b[0m \u001b[0m_VT\u001b[0m\u001b[1;33m]\u001b[0m\u001b[1;33m,\u001b[0m \u001b[0mkey\u001b[0m\u001b[1;33m:\u001b[0m \u001b[0m_KT\u001b[0m\u001b[1;33m,\u001b[0m \u001b[0mdefault\u001b[0m\u001b[1;33m:\u001b[0m \u001b[0m_VT\u001b[0m\u001b[1;33m)\u001b[0m \u001b[1;33m->\u001b[0m \u001b[0m_VT\u001b[0m\u001b[1;33m:\u001b[0m\u001b[1;33m\u001b[0m\u001b[1;33m\u001b[0m\u001b[0m\n",
      "\u001b[1;31mWebDriverException\u001b[0m: Message: chrome not reachable\n  (Session info: chrome=100.0.4896.127)\nStacktrace:\nBacktrace:\n\tOrdinal0 [0x01117413+2389011]\n\tOrdinal0 [0x010A9F61+1941345]\n\tOrdinal0 [0x00F9C520+836896]\n\tOrdinal0 [0x00F90682+788098]\n\tOrdinal0 [0x00F90EB8+790200]\n\tOrdinal0 [0x00F92752+796498]\n\tOrdinal0 [0x00F8C0D9+770265]\n\tOrdinal0 [0x00F9D9D0+842192]\n\tOrdinal0 [0x00FF3AE2+1194722]\n\tOrdinal0 [0x00FE3F66+1130342]\n\tOrdinal0 [0x00FBE546+976198]\n\tOrdinal0 [0x00FBF456+980054]\n\tGetHandleVerifier [0x012C9632+1727522]\n\tGetHandleVerifier [0x0137BA4D+2457661]\n\tGetHandleVerifier [0x011AEB81+569713]\n\tGetHandleVerifier [0x011ADD76+566118]\n\tOrdinal0 [0x010B0B2B+1968939]\n\tOrdinal0 [0x010B5988+1989000]\n\tOrdinal0 [0x010B5A75+1989237]\n\tOrdinal0 [0x010BECB1+2026673]\n\tBaseThreadInitThunk [0x75AE6739+25]\n\tRtlGetFullPathName_UEx [0x778B8E7F+1215]\n\tRtlGetFullPathName_UEx [0x778B8E4D+1165]\n"
     ]
    }
   ],
   "source": [
    "driver.get(url)"
   ]
  },
  {
   "cell_type": "markdown",
   "id": "c8b5a3d3",
   "metadata": {},
   "source": [
    "### Extract the Collection"
   ]
  },
  {
   "cell_type": "code",
   "execution_count": 23,
   "id": "38e60fe5",
   "metadata": {},
   "outputs": [],
   "source": [
    "soup = BeautifulSoup(driver.page_source, 'html.parser')"
   ]
  },
  {
   "cell_type": "code",
   "execution_count": 25,
   "id": "5c42b7d4",
   "metadata": {},
   "outputs": [],
   "source": [
    "results = soup.find_all(class_= \"a-section a-spacing-small s-padding-left-small s-padding-right-small\")"
   ]
  },
  {
   "cell_type": "code",
   "execution_count": 26,
   "id": "e626cbdb",
   "metadata": {},
   "outputs": [],
   "source": [
    "results = soup.find_all('div',{'data-component-type':'s-search-result'})"
   ]
  },
  {
   "cell_type": "code",
   "execution_count": 27,
   "id": "1cf9769c",
   "metadata": {},
   "outputs": [
    {
     "data": {
      "text/plain": [
       "22"
      ]
     },
     "execution_count": 27,
     "metadata": {},
     "output_type": "execute_result"
    }
   ],
   "source": [
    "len(results)"
   ]
  },
  {
   "cell_type": "code",
   "execution_count": 28,
   "id": "a51c0e31",
   "metadata": {},
   "outputs": [],
   "source": [
    "item = results[0]"
   ]
  },
  {
   "cell_type": "code",
   "execution_count": 29,
   "id": "90a0da23",
   "metadata": {},
   "outputs": [],
   "source": [
    "atag = item.h2.a"
   ]
  },
  {
   "cell_type": "code",
   "execution_count": 30,
   "id": "2ec57eb0",
   "metadata": {},
   "outputs": [
    {
     "data": {
      "text/plain": [
       "'World’s Greatest Books For Personal Growth & Wealth (Set of 4 Books): Perfect Motivational Gift Set'"
      ]
     },
     "execution_count": 30,
     "metadata": {},
     "output_type": "execute_result"
    }
   ],
   "source": [
    "title = atag.text.strip()\n",
    "title"
   ]
  },
  {
   "cell_type": "code",
   "execution_count": 31,
   "id": "4b36a612",
   "metadata": {},
   "outputs": [
    {
     "data": {
      "text/plain": [
       "'https:amazon.in/gp/slredirect/picassoRedirect.html/ref=pa_sp_atf_aps_sr_pg1_1?ie=UTF8&adId=A10239661C8CJHMGI2PI7&qualifier=1650794074&id=8732908638006251&widgetName=sp_atf&url=%2FWorlds-Greatest-Personal-Growth-Wealth%2Fdp%2F9389432014%2Fref%3Dsr_1_1_sspa%3Fkeywords%3DBooks%26qid%3D1650794074%26sr%3D8-1-spons%26psc%3D1'"
      ]
     },
     "execution_count": 31,
     "metadata": {},
     "output_type": "execute_result"
    }
   ],
   "source": [
    "product_url = \"https:amazon.in\" + atag.get('href')\n",
    "product_url"
   ]
  },
  {
   "cell_type": "code",
   "execution_count": 32,
   "id": "cc1382e4",
   "metadata": {},
   "outputs": [],
   "source": [
    "price_parent = item.find('span','a-price')"
   ]
  },
  {
   "cell_type": "code",
   "execution_count": 33,
   "id": "441a0f16",
   "metadata": {},
   "outputs": [
    {
     "data": {
      "text/plain": [
       "'325'"
      ]
     },
     "execution_count": 33,
     "metadata": {},
     "output_type": "execute_result"
    }
   ],
   "source": [
    "price_parent.find('span','a-offscreen').text[1:]"
   ]
  },
  {
   "cell_type": "code",
   "execution_count": 34,
   "id": "1c457ee7",
   "metadata": {},
   "outputs": [
    {
     "data": {
      "text/plain": [
       "'4.5 out of 5 stars'"
      ]
     },
     "execution_count": 34,
     "metadata": {},
     "output_type": "execute_result"
    }
   ],
   "source": [
    "rating = item.i.text\n",
    "rating"
   ]
  },
  {
   "cell_type": "code",
   "execution_count": 38,
   "id": "45d2da70",
   "metadata": {},
   "outputs": [
    {
     "data": {
      "text/plain": [
       "'18,417'"
      ]
     },
     "execution_count": 38,
     "metadata": {},
     "output_type": "execute_result"
    }
   ],
   "source": [
    "rating_count  = item.find('span',{\"class\":\"a-size-base s-underline-text\"}).text\n",
    "rating_count"
   ]
  },
  {
   "cell_type": "code",
   "execution_count": 37,
   "id": "e77d9d5a",
   "metadata": {},
   "outputs": [
    {
     "ename": "AttributeError",
     "evalue": "'NoneType' object has no attribute 'text'",
     "output_type": "error",
     "traceback": [
      "\u001b[1;31m---------------------------------------------------------------------------\u001b[0m",
      "\u001b[1;31mAttributeError\u001b[0m                            Traceback (most recent call last)",
      "\u001b[1;32m<ipython-input-37-98e8c244eb33>\u001b[0m in \u001b[0;36m<module>\u001b[1;34m\u001b[0m\n\u001b[1;32m----> 1\u001b[1;33m \u001b[0mauthor\u001b[0m \u001b[1;33m=\u001b[0m \u001b[0mitem\u001b[0m\u001b[1;33m.\u001b[0m\u001b[0mfind\u001b[0m\u001b[1;33m(\u001b[0m\u001b[1;34m'a'\u001b[0m\u001b[1;33m,\u001b[0m\u001b[1;33m{\u001b[0m\u001b[1;34m'class'\u001b[0m\u001b[1;33m:\u001b[0m\u001b[1;34m'a-size-base a-link-normal s-underline-text s-underline-link-text s-link-style'\u001b[0m\u001b[1;33m}\u001b[0m\u001b[1;33m)\u001b[0m\u001b[1;33m.\u001b[0m\u001b[0mtext\u001b[0m\u001b[1;33m.\u001b[0m\u001b[0mstrip\u001b[0m\u001b[1;33m(\u001b[0m\u001b[1;33m)\u001b[0m\u001b[1;33m\u001b[0m\u001b[1;33m\u001b[0m\u001b[0m\n\u001b[0m\u001b[0;32m      2\u001b[0m \u001b[0mauthor\u001b[0m\u001b[1;33m\u001b[0m\u001b[1;33m\u001b[0m\u001b[0m\n",
      "\u001b[1;31mAttributeError\u001b[0m: 'NoneType' object has no attribute 'text'"
     ]
    }
   ],
   "source": [
    "author = item.find('a',{'class':'a-size-base a-link-normal s-underline-text s-underline-link-text s-link-style'}).text.strip()\n",
    "author"
   ]
  },
  {
   "cell_type": "markdown",
   "id": "af501511",
   "metadata": {},
   "source": [
    "### General Function for getting details"
   ]
  },
  {
   "cell_type": "code",
   "execution_count": 237,
   "id": "b910402a",
   "metadata": {},
   "outputs": [],
   "source": [
    "def extract_details(item):\n",
    "    \"\"\"Extracts details of a single record\"\"\"\n",
    "    atag = item.h2.a \n",
    "    title = atag.text.strip()\n",
    "    \n",
    "    product_url = \"https://amazon.in\" + atag.get('href')\n",
    "    price_parent = item.find('span','a-price')\n",
    "    price = price_parent.find('span','a-offscreen').text[1:]\n",
    "    rating = item.i.text\n",
    "    rating_count  = item.find('span',{\"class\":\"a-size-base s-underline-text\"}).text\n",
    "    \n",
    "    try: # used try block as some author names are missing\n",
    "        author = item.find('a',{'class':'a-size-base a-link-normal s-underline-text s-underline-link-text s-link-style'}).text.strip()\n",
    "    except AttributeError:\n",
    "        author = 'unknown'\n",
    "        \n",
    "    output = (title,author,product_url,price,rating, rating_count)\n",
    "    \n",
    "    return output\n"
   ]
  },
  {
   "cell_type": "code",
   "execution_count": 238,
   "id": "5c2b1256",
   "metadata": {},
   "outputs": [],
   "source": [
    "records = []\n",
    "results = soup.find_all('div',{'data-component-type':'s-search-result'})\n",
    "\n",
    "for item in results:\n",
    "    records.append(extract_details(item))"
   ]
  },
  {
   "cell_type": "markdown",
   "id": "688239cf",
   "metadata": {},
   "source": [
    "\n",
    "# Put it all together"
   ]
  },
  {
   "cell_type": "code",
   "execution_count": 3,
   "id": "76e5a5c2",
   "metadata": {},
   "outputs": [],
   "source": [
    "def get_url(search_term):\n",
    "    \"\"\"Generates a URL from the search term.\"\"\"\n",
    "    generic_url = 'https://www.amazon.in/s?k={}'\n",
    "    search_term = search_term.replace(' ','+') # conforming to the amazon's url format for search terms with scapes\n",
    "   \n",
    "    url = generic_url.format(search_term)\n",
    "    \n",
    "    # added page query\n",
    "    url += '&page={}'\n",
    "    return url\n",
    "\n",
    "def extract_details(item):\n",
    "    \"\"\"Extracts details of a single record\"\"\"\n",
    "    atag = item.h2.a \n",
    "    title = atag.text.strip()\n",
    "    \n",
    "    product_url = \"https://amazon.in\" + atag.get('href')\n",
    "    price_parent = item.find('span','a-price')\n",
    "    \n",
    "    try: # used try block for errors due to missing values\n",
    "        price = price_parent.find('span','a-offscreen').text[1:]\n",
    "        author = item.find('a',{'class':'a-size-base a-link-normal s-underline-text s-underline-link-text s-link-style'}).text.strip()\n",
    "        rating = item.i.text\n",
    "        rating_count  = item.find('span',{\"class\":\"a-size-base s-underline-text\"}).text\n",
    "    except AttributeError:\n",
    "        price = 'unkown'\n",
    "        author = 'unknown'\n",
    "        rating = 'unknown'\n",
    "        rating_count = 'unknown'\n",
    "        \n",
    "    output = (title,author,product_url,price,rating, rating_count)\n",
    "    return output\n",
    "\n",
    "\n",
    "def main(search_term):\n",
    "    \"\"\"Run Main program\"\"\"\n",
    "    # startup the webdriver\n",
    "    driver = webdriver.Chrome(ChromeDriverManager().install())\n",
    "    records = []\n",
    "    url = get_url(search_term)\n",
    "    \n",
    "    for page in range(1,3):\n",
    "        driver.get(url.format(page))\n",
    "        soup = BeautifulSoup(driver.page_source, 'html.parser')\n",
    "        results = soup.find_all('div',{'data-component-type':'s-search-result'})\n",
    "        \n",
    "        for item in results:\n",
    "            record = extract_details(item)\n",
    "            if record:\n",
    "                records.append(record)\n",
    "    \n",
    "    driver.close()\n",
    "    global df\n",
    "    df = pd.DataFrame(records)\n",
    "    df.columns = ['Title','Author','Link','Price',\"Rating\",'Rating Count']\n",
    "    \n",
    "    \n",
    "    \n",
    "    \n",
    "    #df.to_csv('amazon_books_records.csv', sep=',')\n"
   ]
  },
  {
   "cell_type": "code",
   "execution_count": 291,
   "id": "bd95d6e6",
   "metadata": {},
   "outputs": [
    {
     "data": {
      "text/plain": [
       "'https://www.amazon.in/s?k=Books&page={}'"
      ]
     },
     "execution_count": 291,
     "metadata": {},
     "output_type": "execute_result"
    }
   ],
   "source": [
    "url = get_url('Books')\n",
    "url"
   ]
  },
  {
   "cell_type": "code",
   "execution_count": 51,
   "id": "c61065a2",
   "metadata": {},
   "outputs": [
    {
     "name": "stdout",
     "output_type": "stream",
     "text": [
      "https://www.amazon.in/s?k=Books&page=1\n",
      "https://www.amazon.in/s?k=Books&page=2\n",
      "https://www.amazon.in/s?k=Books&page=3\n",
      "https://www.amazon.in/s?k=Books&page=4\n",
      "https://www.amazon.in/s?k=Books&page=5\n",
      "https://www.amazon.in/s?k=Books&page=6\n",
      "https://www.amazon.in/s?k=Books&page=7\n",
      "https://www.amazon.in/s?k=Books&page=8\n",
      "https://www.amazon.in/s?k=Books&page=9\n",
      "https://www.amazon.in/s?k=Books&page=10\n",
      "https://www.amazon.in/s?k=Books&page=11\n",
      "https://www.amazon.in/s?k=Books&page=12\n",
      "https://www.amazon.in/s?k=Books&page=13\n",
      "https://www.amazon.in/s?k=Books&page=14\n",
      "https://www.amazon.in/s?k=Books&page=15\n",
      "https://www.amazon.in/s?k=Books&page=16\n",
      "https://www.amazon.in/s?k=Books&page=17\n",
      "https://www.amazon.in/s?k=Books&page=18\n",
      "https://www.amazon.in/s?k=Books&page=19\n",
      "https://www.amazon.in/s?k=Books&page=20\n"
     ]
    }
   ],
   "source": [
    "for page in range(1,21):\n",
    "    print(url.format(page))"
   ]
  },
  {
   "cell_type": "markdown",
   "id": "6163f173",
   "metadata": {},
   "source": [
    "## Crawling on the collectec product links to extract more information"
   ]
  },
  {
   "cell_type": "code",
   "execution_count": 44,
   "id": "ac632a14",
   "metadata": {},
   "outputs": [],
   "source": [
    "driver.get(level1_url)\n",
    "soup = BeautifulSoup(driver.page_source, 'html.parser')"
   ]
  },
  {
   "cell_type": "code",
   "execution_count": 66,
   "id": "2c2c3b9c",
   "metadata": {},
   "outputs": [
    {
     "data": {
      "text/plain": [
       "\"A collection of world's timeless classics, this box set includes the four greatest bestsellers, which have inspired readers for generations. Packed with wisdom and time-tested principles that are as relevant in modern times as ever before, these inspirational books are a must-read for all those aspiring for personal growth and wealth.\""
      ]
     },
     "execution_count": 66,
     "metadata": {},
     "output_type": "execute_result"
    }
   ],
   "source": [
    "description = soup.find('div',{\"class\":\"a-expander-content a-expander-partial-collapse-content\"}).text.strip()\n",
    "description"
   ]
  },
  {
   "cell_type": "code",
   "execution_count": 83,
   "id": "242c182b",
   "metadata": {},
   "outputs": [
    {
     "data": {
      "text/plain": [
       "<div class=\"celwidget\" data-csa-c-id=\"pgp6dy-b8fflh-uq65a1-qbt2cv\" data-feature-name=\"detailBullets\" id=\"detailBullets_feature_div\">\n",
       "<style type=\"text/css\">\n",
       "    .detail-bullets-wrapper ul.detail-bullet-list {\n",
       "        margin: 0 0 1px 18px;\n",
       "    }\n",
       "    .detail-bullets-wrapper ul li {\n",
       "        margin-bottom: 5.5px;\n",
       "    }\n",
       "    .detail-bullets-wrapper:last-child {\n",
       "        margin-bottom: 4.5px;\n",
       "    }\n",
       "</style>\n",
       "<div class=\"a-section feature detail-bullets-wrapper bucket\" data-feature-name=\"detailBullets\" data-template-name=\"detailBullets\" id=\"detailBulletsWrapper_feature_div\"> <hr aria-hidden=\"true\" class=\"a-divider-normal bucketDivider\"/> <h2>Product details</h2>\n",
       "<div id=\"detailBullets_feature_div\">\n",
       "<ul class=\"a-unordered-list a-nostyle a-vertical a-spacing-none detail-bullet-list\"> <li><span class=\"a-list-item\"> <span class=\"a-text-bold\">Publisher\n",
       "                                    ‏\n",
       "                                        :\n",
       "                                    ‎\n",
       "                                </span> <span>Fingerprint! Publishing (1 August 2019)</span> </span></li> <li><span class=\"a-list-item\"> <span class=\"a-text-bold\">Language\n",
       "                                    ‏\n",
       "                                        :\n",
       "                                    ‎\n",
       "                                </span> <span>English</span> </span></li> <li><span class=\"a-list-item\"> <span class=\"a-text-bold\">ISBN-10\n",
       "                                    ‏\n",
       "                                        :\n",
       "                                    ‎\n",
       "                                </span> <span>9389432014</span> </span></li> <li><span class=\"a-list-item\"> <span class=\"a-text-bold\">ISBN-13\n",
       "                                    ‏\n",
       "                                        :\n",
       "                                    ‎\n",
       "                                </span> <span>978-9389432015</span> </span></li> <li><span class=\"a-list-item\"> <span class=\"a-text-bold\">Item Weight\n",
       "                                    ‏\n",
       "                                        :\n",
       "                                    ‎\n",
       "                                </span> <span>450 g</span> </span></li> <li><span class=\"a-list-item\"> <span class=\"a-text-bold\">Dimensions\n",
       "                                    ‏\n",
       "                                        :\n",
       "                                    ‎\n",
       "                                </span> <span>20 x 14 x 4 cm</span> </span></li> <li><span class=\"a-list-item\"> <span class=\"a-text-bold\">Country of Origin\n",
       "                                    ‏\n",
       "                                        :\n",
       "                                    ‎\n",
       "                                </span> <span>India</span> </span></li> <li><span class=\"a-list-item\"> <span class=\"a-text-bold\">Importer\n",
       "                                    ‏\n",
       "                                        :\n",
       "                                    ‎\n",
       "                                </span> <span>011-23247062</span> </span></li> </ul> </div>\n",
       "<ul class=\"a-unordered-list a-nostyle a-vertical a-spacing-none detail-bullet-list\"> <li><span class=\"a-list-item\"> <span class=\"a-text-bold\"> Best Sellers Rank: </span> #42 in Books (<a href=\"/gp/bestsellers/books/ref=pd_zg_ts_books\">See Top 100 in Books</a>) <ul class=\"a-unordered-list a-nostyle a-vertical zg_hrsr\"> <li><span class=\"a-list-item\"> #24 in <a href=\"/gp/bestsellers/books/1318128031/ref=pd_zg_hrsr_books\">Health, Family &amp; Personal Development (Books)</a></span></li> </ul> </span></li> </ul> <ul class=\"a-unordered-list a-nostyle a-vertical a-spacing-none detail-bullet-list\"> <li><span class=\"a-list-item\"> <span class=\"a-text-bold\"> Customer Reviews: </span> <style type=\"text/css\">\n",
       "    /* \n",
       "    * Fix for UDP-1061. Average customer reviews has a small extra line on hover \n",
       "    * https://omni-grok.amazon.com/xref/src/appgroup/websiteTemplates/retail/SoftlinesDetailPageAssets/udp-intl-lock/src/legacy.css?indexName=WebsiteTemplates#40\n",
       "    */\n",
       "    .noUnderline a:hover { \n",
       "        text-decoration: none; \n",
       "    }\n",
       "</style>\n",
       "<div data-asin=\"9389432014\" data-ref=\"dpx_acr_pop_\" id=\"detailBullets_averageCustomerReviews\">\n",
       "<span class=\"a-declarative\" data-acrstarslink-click-metrics=\"{}\" data-action=\"acrStarsLink-click-metrics\" data-csa-c-func-deps=\"aui-da-acrStarsLink-click-metrics\" data-csa-c-id=\"575a7i-hck6y-rxvbiq-ma7us7\" data-csa-c-type=\"widget\"> <span class=\"reviewCountTextLinkedHistogram noUnderline\" id=\"acrPopover\" title=\"4.5 out of 5 stars\">\n",
       "<span class=\"a-declarative\" data-a-popover='{\"max-width\":\"700\",\"closeButton\":\"false\",\"position\":\"triggerBottom\",\"url\":\"/gp/customer-reviews/widgets/average-customer-review/popover/ref=dpx_acr_pop_?contextId=dpx&amp;asin=9389432014\"}' data-action=\"a-popover\" data-csa-c-func-deps=\"aui-da-a-popover\" data-csa-c-id=\"rl7mi8-4o8bih-8kltjw-7e9sff\" data-csa-c-type=\"widget\"> <a class=\"a-popover-trigger a-declarative\" href=\"javascript:void(0)\" role=\"button\"> <i class=\"a-icon a-icon-star a-star-4-5\"><span class=\"a-icon-alt\">4.5 out of 5 stars</span></i> <i class=\"a-icon a-icon-popover\"></i></a> </span> <span class=\"a-letter-space\"></span> </span>\n",
       "</span> <span class=\"a-letter-space\"></span> <span class=\"a-declarative\" data-acrlink-click-metrics=\"{}\" data-action=\"acrLink-click-metrics\" data-csa-c-func-deps=\"aui-da-acrLink-click-metrics\" data-csa-c-id=\"13d53j-rkxpu5-xyvjd7-wm5qe0\" data-csa-c-type=\"widget\"> <a class=\"a-link-normal\" href=\"#customerReviews\" id=\"acrCustomerReviewLink\"> <span class=\"a-size-base\" id=\"acrCustomerReviewText\">18,425 ratings</span> </a> </span> <script type=\"text/javascript\">\n",
       "                    P.when('A', 'ready').execute(function(A) {\n",
       "                        A.declarative('acrLink-click-metrics', 'click', { \"allowLinkDefault\" : true }, function(event){\n",
       "                            if(window.ue) {\n",
       "                                ue.count(\"acrLinkClickCount\", (ue.count(\"acrLinkClickCount\") || 0) + 1);\n",
       "                            }\n",
       "                        });\n",
       "                    });\n",
       "                </script>\n",
       "<script type=\"text/javascript\">\n",
       "            P.when('A', 'cf').execute(function(A) {\n",
       "                A.declarative('acrStarsLink-click-metrics', 'click', { \"allowLinkDefault\" : true },  function(event){\n",
       "                    if(window.ue) {\n",
       "                        ue.count(\"acrStarsLinkWithPopoverClickCount\", (ue.count(\"acrStarsLinkWithPopoverClickCount\") || 0) + 1);\n",
       "                    }\n",
       "                });\n",
       "            });\n",
       "        </script>\n",
       "</div>\n",
       "</span></li> </ul> <div class=\"a-row\"> </div> <div class=\"a-row\"> </div> </div> </div>"
      ]
     },
     "execution_count": 83,
     "metadata": {},
     "output_type": "execute_result"
    }
   ],
   "source": [
    "product_details = soup.find('div',{\"id\":\"detailBullets_feature_div\"})\n",
    "product_details"
   ]
  },
  {
   "cell_type": "code",
   "execution_count": 109,
   "id": "8f419e01",
   "metadata": {},
   "outputs": [
    {
     "data": {
      "text/plain": [
       "'English'"
      ]
     },
     "execution_count": 109,
     "metadata": {},
     "output_type": "execute_result"
    }
   ],
   "source": [
    "Language = product_details.find_all('span',{'class':'a-list-item'})[1].find_all('span')[1].text.strip()\n",
    "Language"
   ]
  },
  {
   "cell_type": "code",
   "execution_count": 149,
   "id": "7ac69da1",
   "metadata": {},
   "outputs": [],
   "source": [
    "def get_url(search_term):\n",
    "    \"\"\"Generates a URL from the search term.\"\"\"\n",
    "    generic_url = 'https://www.amazon.in/s?k={}'\n",
    "    search_term = search_term.replace(' ','+') # conforming to the amazon's url format for search terms with scapes\n",
    "   \n",
    "    url = generic_url.format(search_term)\n",
    "    \n",
    "    # added page query\n",
    "    url += '&page={}'\n",
    "    return url\n",
    "\n",
    "def extract_details(item):\n",
    "    \"\"\"Extracts details of a single record\"\"\"\n",
    "    atag = item.h2.a \n",
    "    title = atag.text.strip()\n",
    "    \n",
    "    product_url = \"https://amazon.in\" + atag.get('href')\n",
    "    price_parent = item.find('span','a-price')\n",
    "    \n",
    "    try: # used try block for errors due to missing values\n",
    "        price = price_parent.find('span','a-offscreen').text[1:]\n",
    "        author = item.find('a',{'class':'a-size-base a-link-normal s-underline-text s-underline-link-text s-link-style'}).text.strip()\n",
    "        rating = item.i.text\n",
    "        rating_count  = item.find('span',{\"class\":\"a-size-base s-underline-text\"}).text\n",
    "    except AttributeError:\n",
    "        price = 'unkown'\n",
    "        author = 'unknown'\n",
    "        rating = 'unknown'\n",
    "        rating_count = 'unknown'\n",
    "        \n",
    "    output = (title,author,product_url,price,rating, rating_count)\n",
    "    return output\n",
    "\n",
    "\n",
    "def main(search_term, level):\n",
    "    \"\"\"Run Main program,\n",
    "        level: 0:Search Page Results, 1 : Product Page Results\"\"\"\n",
    "    # startup the webdriver\n",
    "    driver = webdriver.Chrome(ChromeDriverManager().install())\n",
    "    records = []\n",
    "    url = get_url(search_term)\n",
    "    \n",
    "    for page in range(1,21):\n",
    "        driver.get(url.format(page))\n",
    "        soup = BeautifulSoup(driver.page_source, 'html.parser')\n",
    "        results = soup.find_all('div',{'data-component-type':'s-search-result'})\n",
    "        \n",
    "        for item in results:\n",
    "            record = extract_details(item)\n",
    "            if record:\n",
    "                records.append(record)\n",
    "\n",
    "            \n",
    "    global df\n",
    "    df = pd.DataFrame(records)\n",
    "    df.columns = ['Title','Author','Link','Price',\"Rating\",'Rating Count']\n",
    "    \n",
    "    if level>0:\n",
    "        ##additional code for next level depth crawling and scraping product details, product description\n",
    "        list_language = []\n",
    "        list_book_description = []\n",
    "        for i in range(len(df['Link'])):\n",
    "            driver.get(df['Link'][i])\n",
    "            soup2 = BeautifulSoup(driver.page_source, 'html.parser')\n",
    "            book_description = soup2.find('div',{\"class\":\"a-expander-content a-expander-partial-collapse-content\"}).text.strip()\n",
    "            product_details = soup2.find('div',{\"id\":\"detailBullets_feature_div\"})\n",
    "            language = product_details.find_all('span',{'class':'a-list-item'})[1].find_all('span')[1].text.strip()\n",
    "\n",
    "            list_language.append(language)\n",
    "            list_book_description.append(book_description)\n",
    "\n",
    "        df['Langauge'] = list_language\n",
    "        df['Description'] = list_book_description\n",
    "        \n",
    "    driver.close()\n",
    "    df.to_csv('amazon_books_records_with_description.csv', sep=',')\n"
   ]
  },
  {
   "cell_type": "code",
   "execution_count": 150,
   "id": "4af1a8bc",
   "metadata": {},
   "outputs": [
    {
     "name": "stderr",
     "output_type": "stream",
     "text": [
      "\n",
      "\n",
      "====== WebDriver manager ======\n",
      "Current google-chrome version is 100.0.4896\n",
      "Get LATEST chromedriver version for 100.0.4896 google-chrome\n",
      "Driver [C:\\Users\\boraw\\.wdm\\drivers\\chromedriver\\win32\\100.0.4896.60\\chromedriver.exe] found in cache\n",
      "<ipython-input-149-48d34a043a58>:39: DeprecationWarning: executable_path has been deprecated, please pass in a Service object\n",
      "  driver = webdriver.Chrome(ChromeDriverManager().install())\n"
     ]
    },
    {
     "ename": "WebDriverException",
     "evalue": "Message: chrome not reachable\n  (Session info: chrome=100.0.4896.127)\nStacktrace:\nBacktrace:\n\tOrdinal0 [0x01117413+2389011]\n\tOrdinal0 [0x010A9F61+1941345]\n\tOrdinal0 [0x00F9C520+836896]\n\tOrdinal0 [0x00F90682+788098]\n\tOrdinal0 [0x00F90EB8+790200]\n\tOrdinal0 [0x00F92752+796498]\n\tOrdinal0 [0x00F8C0D9+770265]\n\tOrdinal0 [0x00F9D9D0+842192]\n\tOrdinal0 [0x00FF3AE2+1194722]\n\tOrdinal0 [0x00FE3F66+1130342]\n\tOrdinal0 [0x00FBE546+976198]\n\tOrdinal0 [0x00FBF456+980054]\n\tGetHandleVerifier [0x012C9632+1727522]\n\tGetHandleVerifier [0x0137BA4D+2457661]\n\tGetHandleVerifier [0x011AEB81+569713]\n\tGetHandleVerifier [0x011ADD76+566118]\n\tOrdinal0 [0x010B0B2B+1968939]\n\tOrdinal0 [0x010B5988+1989000]\n\tOrdinal0 [0x010B5A75+1989237]\n\tOrdinal0 [0x010BECB1+2026673]\n\tBaseThreadInitThunk [0x75AE6739+25]\n\tRtlGetFullPathName_UEx [0x778B8E7F+1215]\n\tRtlGetFullPathName_UEx [0x778B8E4D+1165]\n",
     "output_type": "error",
     "traceback": [
      "\u001b[1;31m---------------------------------------------------------------------------\u001b[0m",
      "\u001b[1;31mWebDriverException\u001b[0m                        Traceback (most recent call last)",
      "\u001b[1;32m<ipython-input-150-e1698de0e644>\u001b[0m in \u001b[0;36m<module>\u001b[1;34m\u001b[0m\n\u001b[0;32m      3\u001b[0m \u001b[1;33m\u001b[0m\u001b[0m\n\u001b[0;32m      4\u001b[0m \u001b[1;31m#main('Books',0) # for product search results only\u001b[0m\u001b[1;33m\u001b[0m\u001b[1;33m\u001b[0m\u001b[1;33m\u001b[0m\u001b[0m\n\u001b[1;32m----> 5\u001b[1;33m \u001b[0mmain\u001b[0m\u001b[1;33m(\u001b[0m\u001b[1;34m'Books'\u001b[0m\u001b[1;33m,\u001b[0m\u001b[1;36m1\u001b[0m\u001b[1;33m)\u001b[0m \u001b[1;31m# for product search results and individual product details\u001b[0m\u001b[1;33m\u001b[0m\u001b[1;33m\u001b[0m\u001b[0m\n\u001b[0m\u001b[0;32m      6\u001b[0m \u001b[1;33m\u001b[0m\u001b[0m\n\u001b[0;32m      7\u001b[0m \u001b[0mend_time\u001b[0m \u001b[1;33m=\u001b[0m \u001b[0mdatetime\u001b[0m\u001b[1;33m.\u001b[0m\u001b[0mnow\u001b[0m\u001b[1;33m(\u001b[0m\u001b[1;33m)\u001b[0m\u001b[1;33m\u001b[0m\u001b[1;33m\u001b[0m\u001b[0m\n",
      "\u001b[1;32m<ipython-input-149-48d34a043a58>\u001b[0m in \u001b[0;36mmain\u001b[1;34m(search_term, level)\u001b[0m\n\u001b[0;32m     43\u001b[0m     \u001b[1;32mfor\u001b[0m \u001b[0mpage\u001b[0m \u001b[1;32min\u001b[0m \u001b[0mrange\u001b[0m\u001b[1;33m(\u001b[0m\u001b[1;36m1\u001b[0m\u001b[1;33m,\u001b[0m\u001b[1;36m21\u001b[0m\u001b[1;33m)\u001b[0m\u001b[1;33m:\u001b[0m\u001b[1;33m\u001b[0m\u001b[1;33m\u001b[0m\u001b[0m\n\u001b[0;32m     44\u001b[0m         \u001b[0mdriver\u001b[0m\u001b[1;33m.\u001b[0m\u001b[0mget\u001b[0m\u001b[1;33m(\u001b[0m\u001b[0murl\u001b[0m\u001b[1;33m.\u001b[0m\u001b[0mformat\u001b[0m\u001b[1;33m(\u001b[0m\u001b[0mpage\u001b[0m\u001b[1;33m)\u001b[0m\u001b[1;33m)\u001b[0m\u001b[1;33m\u001b[0m\u001b[1;33m\u001b[0m\u001b[0m\n\u001b[1;32m---> 45\u001b[1;33m         \u001b[0msoup\u001b[0m \u001b[1;33m=\u001b[0m \u001b[0mBeautifulSoup\u001b[0m\u001b[1;33m(\u001b[0m\u001b[0mdriver\u001b[0m\u001b[1;33m.\u001b[0m\u001b[0mpage_source\u001b[0m\u001b[1;33m,\u001b[0m \u001b[1;34m'html.parser'\u001b[0m\u001b[1;33m)\u001b[0m\u001b[1;33m\u001b[0m\u001b[1;33m\u001b[0m\u001b[0m\n\u001b[0m\u001b[0;32m     46\u001b[0m         \u001b[0mresults\u001b[0m \u001b[1;33m=\u001b[0m \u001b[0msoup\u001b[0m\u001b[1;33m.\u001b[0m\u001b[0mfind_all\u001b[0m\u001b[1;33m(\u001b[0m\u001b[1;34m'div'\u001b[0m\u001b[1;33m,\u001b[0m\u001b[1;33m{\u001b[0m\u001b[1;34m'data-component-type'\u001b[0m\u001b[1;33m:\u001b[0m\u001b[1;34m's-search-result'\u001b[0m\u001b[1;33m}\u001b[0m\u001b[1;33m)\u001b[0m\u001b[1;33m\u001b[0m\u001b[1;33m\u001b[0m\u001b[0m\n\u001b[0;32m     47\u001b[0m \u001b[1;33m\u001b[0m\u001b[0m\n",
      "\u001b[1;32mE:\\Romesh\\Anaconda\\lib\\site-packages\\selenium\\webdriver\\remote\\webdriver.py\u001b[0m in \u001b[0;36mpage_source\u001b[1;34m(self)\u001b[0m\n\u001b[0;32m    925\u001b[0m                 \u001b[0mdriver\u001b[0m\u001b[1;33m.\u001b[0m\u001b[0mpage_source\u001b[0m\u001b[1;33m\u001b[0m\u001b[1;33m\u001b[0m\u001b[0m\n\u001b[0;32m    926\u001b[0m         \"\"\"\n\u001b[1;32m--> 927\u001b[1;33m         \u001b[1;32mreturn\u001b[0m \u001b[0mself\u001b[0m\u001b[1;33m.\u001b[0m\u001b[0mexecute\u001b[0m\u001b[1;33m(\u001b[0m\u001b[0mCommand\u001b[0m\u001b[1;33m.\u001b[0m\u001b[0mGET_PAGE_SOURCE\u001b[0m\u001b[1;33m)\u001b[0m\u001b[1;33m[\u001b[0m\u001b[1;34m'value'\u001b[0m\u001b[1;33m]\u001b[0m\u001b[1;33m\u001b[0m\u001b[1;33m\u001b[0m\u001b[0m\n\u001b[0m\u001b[0;32m    928\u001b[0m \u001b[1;33m\u001b[0m\u001b[0m\n\u001b[0;32m    929\u001b[0m     \u001b[1;32mdef\u001b[0m \u001b[0mclose\u001b[0m\u001b[1;33m(\u001b[0m\u001b[0mself\u001b[0m\u001b[1;33m)\u001b[0m \u001b[1;33m->\u001b[0m \u001b[1;32mNone\u001b[0m\u001b[1;33m:\u001b[0m\u001b[1;33m\u001b[0m\u001b[1;33m\u001b[0m\u001b[0m\n",
      "\u001b[1;32mE:\\Romesh\\Anaconda\\lib\\site-packages\\selenium\\webdriver\\remote\\webdriver.py\u001b[0m in \u001b[0;36mexecute\u001b[1;34m(self, driver_command, params)\u001b[0m\n\u001b[0;32m    423\u001b[0m         \u001b[0mresponse\u001b[0m \u001b[1;33m=\u001b[0m \u001b[0mself\u001b[0m\u001b[1;33m.\u001b[0m\u001b[0mcommand_executor\u001b[0m\u001b[1;33m.\u001b[0m\u001b[0mexecute\u001b[0m\u001b[1;33m(\u001b[0m\u001b[0mdriver_command\u001b[0m\u001b[1;33m,\u001b[0m \u001b[0mparams\u001b[0m\u001b[1;33m)\u001b[0m\u001b[1;33m\u001b[0m\u001b[1;33m\u001b[0m\u001b[0m\n\u001b[0;32m    424\u001b[0m         \u001b[1;32mif\u001b[0m \u001b[0mresponse\u001b[0m\u001b[1;33m:\u001b[0m\u001b[1;33m\u001b[0m\u001b[1;33m\u001b[0m\u001b[0m\n\u001b[1;32m--> 425\u001b[1;33m             \u001b[0mself\u001b[0m\u001b[1;33m.\u001b[0m\u001b[0merror_handler\u001b[0m\u001b[1;33m.\u001b[0m\u001b[0mcheck_response\u001b[0m\u001b[1;33m(\u001b[0m\u001b[0mresponse\u001b[0m\u001b[1;33m)\u001b[0m\u001b[1;33m\u001b[0m\u001b[1;33m\u001b[0m\u001b[0m\n\u001b[0m\u001b[0;32m    426\u001b[0m             response['value'] = self._unwrap_value(\n\u001b[0;32m    427\u001b[0m                 response.get('value', None))\n",
      "\u001b[1;32mE:\\Romesh\\Anaconda\\lib\\site-packages\\selenium\\webdriver\\remote\\errorhandler.py\u001b[0m in \u001b[0;36mcheck_response\u001b[1;34m(self, response)\u001b[0m\n\u001b[0;32m    245\u001b[0m                 \u001b[0malert_text\u001b[0m \u001b[1;33m=\u001b[0m \u001b[0mvalue\u001b[0m\u001b[1;33m[\u001b[0m\u001b[1;34m'alert'\u001b[0m\u001b[1;33m]\u001b[0m\u001b[1;33m.\u001b[0m\u001b[0mget\u001b[0m\u001b[1;33m(\u001b[0m\u001b[1;34m'text'\u001b[0m\u001b[1;33m)\u001b[0m\u001b[1;33m\u001b[0m\u001b[1;33m\u001b[0m\u001b[0m\n\u001b[0;32m    246\u001b[0m             \u001b[1;32mraise\u001b[0m \u001b[0mexception_class\u001b[0m\u001b[1;33m(\u001b[0m\u001b[0mmessage\u001b[0m\u001b[1;33m,\u001b[0m \u001b[0mscreen\u001b[0m\u001b[1;33m,\u001b[0m \u001b[0mstacktrace\u001b[0m\u001b[1;33m,\u001b[0m \u001b[0malert_text\u001b[0m\u001b[1;33m)\u001b[0m  \u001b[1;31m# type: ignore[call-arg]  # mypy is not smart enough here\u001b[0m\u001b[1;33m\u001b[0m\u001b[1;33m\u001b[0m\u001b[0m\n\u001b[1;32m--> 247\u001b[1;33m         \u001b[1;32mraise\u001b[0m \u001b[0mexception_class\u001b[0m\u001b[1;33m(\u001b[0m\u001b[0mmessage\u001b[0m\u001b[1;33m,\u001b[0m \u001b[0mscreen\u001b[0m\u001b[1;33m,\u001b[0m \u001b[0mstacktrace\u001b[0m\u001b[1;33m)\u001b[0m\u001b[1;33m\u001b[0m\u001b[1;33m\u001b[0m\u001b[0m\n\u001b[0m\u001b[0;32m    248\u001b[0m \u001b[1;33m\u001b[0m\u001b[0m\n\u001b[0;32m    249\u001b[0m     \u001b[1;32mdef\u001b[0m \u001b[0m_value_or_default\u001b[0m\u001b[1;33m(\u001b[0m\u001b[0mself\u001b[0m\u001b[1;33m,\u001b[0m \u001b[0mobj\u001b[0m\u001b[1;33m:\u001b[0m \u001b[0mMapping\u001b[0m\u001b[1;33m[\u001b[0m\u001b[0m_KT\u001b[0m\u001b[1;33m,\u001b[0m \u001b[0m_VT\u001b[0m\u001b[1;33m]\u001b[0m\u001b[1;33m,\u001b[0m \u001b[0mkey\u001b[0m\u001b[1;33m:\u001b[0m \u001b[0m_KT\u001b[0m\u001b[1;33m,\u001b[0m \u001b[0mdefault\u001b[0m\u001b[1;33m:\u001b[0m \u001b[0m_VT\u001b[0m\u001b[1;33m)\u001b[0m \u001b[1;33m->\u001b[0m \u001b[0m_VT\u001b[0m\u001b[1;33m:\u001b[0m\u001b[1;33m\u001b[0m\u001b[1;33m\u001b[0m\u001b[0m\n",
      "\u001b[1;31mWebDriverException\u001b[0m: Message: chrome not reachable\n  (Session info: chrome=100.0.4896.127)\nStacktrace:\nBacktrace:\n\tOrdinal0 [0x01117413+2389011]\n\tOrdinal0 [0x010A9F61+1941345]\n\tOrdinal0 [0x00F9C520+836896]\n\tOrdinal0 [0x00F90682+788098]\n\tOrdinal0 [0x00F90EB8+790200]\n\tOrdinal0 [0x00F92752+796498]\n\tOrdinal0 [0x00F8C0D9+770265]\n\tOrdinal0 [0x00F9D9D0+842192]\n\tOrdinal0 [0x00FF3AE2+1194722]\n\tOrdinal0 [0x00FE3F66+1130342]\n\tOrdinal0 [0x00FBE546+976198]\n\tOrdinal0 [0x00FBF456+980054]\n\tGetHandleVerifier [0x012C9632+1727522]\n\tGetHandleVerifier [0x0137BA4D+2457661]\n\tGetHandleVerifier [0x011AEB81+569713]\n\tGetHandleVerifier [0x011ADD76+566118]\n\tOrdinal0 [0x010B0B2B+1968939]\n\tOrdinal0 [0x010B5988+1989000]\n\tOrdinal0 [0x010B5A75+1989237]\n\tOrdinal0 [0x010BECB1+2026673]\n\tBaseThreadInitThunk [0x75AE6739+25]\n\tRtlGetFullPathName_UEx [0x778B8E7F+1215]\n\tRtlGetFullPathName_UEx [0x778B8E4D+1165]\n"
     ]
    }
   ],
   "source": [
    "from datetime import datetime\n",
    "start_time = datetime.now()\n",
    "\n",
    "#main('Books',0) # for product search results only\n",
    "main('Books',1) # for product search results and individual product details\n",
    "\n",
    "end_time = datetime.now()\n",
    "print('Duration: {}'.format(end_time - start_time))"
   ]
  },
  {
   "cell_type": "code",
   "execution_count": 147,
   "id": "a9317510",
   "metadata": {},
   "outputs": [
    {
     "data": {
      "text/html": [
       "<div>\n",
       "<style scoped>\n",
       "    .dataframe tbody tr th:only-of-type {\n",
       "        vertical-align: middle;\n",
       "    }\n",
       "\n",
       "    .dataframe tbody tr th {\n",
       "        vertical-align: top;\n",
       "    }\n",
       "\n",
       "    .dataframe thead th {\n",
       "        text-align: right;\n",
       "    }\n",
       "</style>\n",
       "<table border=\"1\" class=\"dataframe\">\n",
       "  <thead>\n",
       "    <tr style=\"text-align: right;\">\n",
       "      <th></th>\n",
       "      <th>Title</th>\n",
       "      <th>Author</th>\n",
       "      <th>Link</th>\n",
       "      <th>Price</th>\n",
       "      <th>Rating</th>\n",
       "      <th>Rating Count</th>\n",
       "      <th>Langauge</th>\n",
       "      <th>Description</th>\n",
       "    </tr>\n",
       "  </thead>\n",
       "  <tbody>\n",
       "    <tr>\n",
       "      <th>0</th>\n",
       "      <td>World’s Greatest Books For Personal Growth &amp; W...</td>\n",
       "      <td>unknown</td>\n",
       "      <td>https://amazon.in/gp/slredirect/picassoRedirec...</td>\n",
       "      <td>unkown</td>\n",
       "      <td>unknown</td>\n",
       "      <td>unknown</td>\n",
       "      <td>English</td>\n",
       "      <td>A collection of world's timeless classics, thi...</td>\n",
       "    </tr>\n",
       "    <tr>\n",
       "      <th>1</th>\n",
       "      <td>3 and a Half Murders: An Inspector Saralkar My...</td>\n",
       "      <td>Salil Desai</td>\n",
       "      <td>https://amazon.in/gp/slredirect/picassoRedirec...</td>\n",
       "      <td>179</td>\n",
       "      <td>4.3 out of 5 stars</td>\n",
       "      <td>776</td>\n",
       "      <td>English</td>\n",
       "      <td>Two corpses . . . a woman lying dead on her be...</td>\n",
       "    </tr>\n",
       "    <tr>\n",
       "      <th>2</th>\n",
       "      <td>The Legend of Bahirji-Naik: Raiders of Surat (...</td>\n",
       "      <td>unknown</td>\n",
       "      <td>https://amazon.in/Legend-Bahirji-Naik-Raiders-...</td>\n",
       "      <td>unkown</td>\n",
       "      <td>unknown</td>\n",
       "      <td>unknown</td>\n",
       "      <td>English</td>\n",
       "      <td>Maratha Swarajya, 1663: The dream of a kingdom...</td>\n",
       "    </tr>\n",
       "    <tr>\n",
       "      <th>3</th>\n",
       "      <td>The Psychology of Money</td>\n",
       "      <td>Morgan Housel</td>\n",
       "      <td>https://amazon.in/Psychology-Money-Morgan-Hous...</td>\n",
       "      <td>300</td>\n",
       "      <td>4.6 out of 5 stars</td>\n",
       "      <td>32,300</td>\n",
       "      <td>English</td>\n",
       "      <td>Timeless lessons on wealth, greed, and happine...</td>\n",
       "    </tr>\n",
       "    <tr>\n",
       "      <th>4</th>\n",
       "      <td>Life's Amazing Secrets: How to Find Balance an...</td>\n",
       "      <td>Gaur Gopal Das</td>\n",
       "      <td>https://amazon.in/Lifes-Amazing-Secrets-Balanc...</td>\n",
       "      <td>221</td>\n",
       "      <td>4.6 out of 5 stars</td>\n",
       "      <td>15,140</td>\n",
       "      <td>English</td>\n",
       "      <td>Stop going through life, Start growing through...</td>\n",
       "    </tr>\n",
       "  </tbody>\n",
       "</table>\n",
       "</div>"
      ],
      "text/plain": [
       "                                               Title          Author  \\\n",
       "0  World’s Greatest Books For Personal Growth & W...         unknown   \n",
       "1  3 and a Half Murders: An Inspector Saralkar My...     Salil Desai   \n",
       "2  The Legend of Bahirji-Naik: Raiders of Surat (...         unknown   \n",
       "3                            The Psychology of Money   Morgan Housel   \n",
       "4  Life's Amazing Secrets: How to Find Balance an...  Gaur Gopal Das   \n",
       "\n",
       "                                                Link   Price  \\\n",
       "0  https://amazon.in/gp/slredirect/picassoRedirec...  unkown   \n",
       "1  https://amazon.in/gp/slredirect/picassoRedirec...     179   \n",
       "2  https://amazon.in/Legend-Bahirji-Naik-Raiders-...  unkown   \n",
       "3  https://amazon.in/Psychology-Money-Morgan-Hous...     300   \n",
       "4  https://amazon.in/Lifes-Amazing-Secrets-Balanc...     221   \n",
       "\n",
       "               Rating Rating Count Langauge  \\\n",
       "0             unknown      unknown  English   \n",
       "1  4.3 out of 5 stars          776  English   \n",
       "2             unknown      unknown  English   \n",
       "3  4.6 out of 5 stars       32,300  English   \n",
       "4  4.6 out of 5 stars       15,140  English   \n",
       "\n",
       "                                         Description  \n",
       "0  A collection of world's timeless classics, thi...  \n",
       "1  Two corpses . . . a woman lying dead on her be...  \n",
       "2  Maratha Swarajya, 1663: The dream of a kingdom...  \n",
       "3  Timeless lessons on wealth, greed, and happine...  \n",
       "4  Stop going through life, Start growing through...  "
      ]
     },
     "execution_count": 147,
     "metadata": {},
     "output_type": "execute_result"
    }
   ],
   "source": [
    "df.head()"
   ]
  },
  {
   "cell_type": "markdown",
   "id": "3bd3eda2",
   "metadata": {},
   "source": [
    "---END OF NOTEBOOK ---"
   ]
  },
  {
   "cell_type": "code",
   "execution_count": null,
   "id": "a3fe69f5",
   "metadata": {},
   "outputs": [],
   "source": []
  }
 ],
 "metadata": {
  "kernelspec": {
   "display_name": "Python 3",
   "language": "python",
   "name": "python3"
  },
  "language_info": {
   "codemirror_mode": {
    "name": "ipython",
    "version": 3
   },
   "file_extension": ".py",
   "mimetype": "text/x-python",
   "name": "python",
   "nbconvert_exporter": "python",
   "pygments_lexer": "ipython3",
   "version": "3.8.8"
  }
 },
 "nbformat": 4,
 "nbformat_minor": 5
}
