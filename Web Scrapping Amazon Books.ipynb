{
 "cells": [
  {
   "cell_type": "markdown",
   "id": "fe1e68c9",
   "metadata": {},
   "source": [
    "# Building a WebScaper to gather Data of Books Selling on Amazon.in"
   ]
  },
  {
   "cell_type": "markdown",
   "id": "06050678",
   "metadata": {},
   "source": [
    "#### This Jupyter Notebook was used to test and write code, Final program can also be ran from 'main.py'"
   ]
  },
  {
   "cell_type": "code",
   "execution_count": 2,
   "id": "f150989d",
   "metadata": {},
   "outputs": [],
   "source": [
    "#importing BeautifulSoup 4 and selenium\n",
    "from bs4 import BeautifulSoup\n",
    "import selenium"
   ]
  },
  {
   "cell_type": "code",
   "execution_count": 5,
   "id": "01645afd",
   "metadata": {},
   "outputs": [],
   "source": [
    "from selenium import webdriver\n",
    "from webdriver_manager.chrome import ChromeDriverManager\n"
   ]
  },
  {
   "cell_type": "markdown",
   "id": "3e7a85d4",
   "metadata": {},
   "source": [
    "### Start the webdriver"
   ]
  },
  {
   "cell_type": "code",
   "execution_count": 25,
   "id": "05ae6f63",
   "metadata": {},
   "outputs": [
    {
     "name": "stderr",
     "output_type": "stream",
     "text": [
      "\n",
      "\n",
      "====== WebDriver manager ======\n",
      "Current google-chrome version is 100.0.4896\n",
      "Get LATEST chromedriver version for 100.0.4896 google-chrome\n",
      "Driver [C:\\Users\\boraw\\.wdm\\drivers\\chromedriver\\win32\\100.0.4896.60\\chromedriver.exe] found in cache\n",
      "<ipython-input-25-a8f3e5a54fdc>:2: DeprecationWarning: executable_path has been deprecated, please pass in a Service object\n",
      "  driver = webdriver.Chrome(ChromeDriverManager().install())\n"
     ]
    }
   ],
   "source": [
    "# startup the webdriver\n",
    "driver = webdriver.Chrome(ChromeDriverManager().install())"
   ]
  },
  {
   "cell_type": "code",
   "execution_count": 7,
   "id": "e9ed78a1",
   "metadata": {},
   "outputs": [],
   "source": [
    "url = \"https://www.amazon.in/\"\n",
    "driver.get(url)"
   ]
  },
  {
   "cell_type": "code",
   "execution_count": 274,
   "id": "a3450cc7",
   "metadata": {},
   "outputs": [],
   "source": [
    "def get_url(search_term):\n",
    "    \"\"\"Generates a URL from the search term.\"\"\"\n",
    "    generic_url = 'https://www.amazon.in/s?k={}'\n",
    "    search_term = search_term.replace(' ','+') # conforming to the amazon's url format for search terms with scapes\n",
    "   \n",
    "    url = generic_url.format(search_term)\n",
    "    \n",
    "    # added page query\n",
    "    url += '&page={}'\n",
    "    \n",
    "    return url"
   ]
  },
  {
   "cell_type": "code",
   "execution_count": 252,
   "id": "6d84b273",
   "metadata": {},
   "outputs": [
    {
     "data": {
      "text/plain": [
       "'https://www.amazon.in/s?k=Books&page{}'"
      ]
     },
     "execution_count": 252,
     "metadata": {},
     "output_type": "execute_result"
    }
   ],
   "source": [
    "url = get_url('Books')\n",
    "url"
   ]
  },
  {
   "cell_type": "code",
   "execution_count": 253,
   "id": "986b6802",
   "metadata": {},
   "outputs": [],
   "source": [
    "driver.get(url)"
   ]
  },
  {
   "cell_type": "markdown",
   "id": "c8b5a3d3",
   "metadata": {},
   "source": [
    "### Extract the Collection"
   ]
  },
  {
   "cell_type": "code",
   "execution_count": 129,
   "id": "38e60fe5",
   "metadata": {},
   "outputs": [],
   "source": [
    "soup = BeautifulSoup(driver.page_source, 'html.parser')"
   ]
  },
  {
   "cell_type": "code",
   "execution_count": 61,
   "id": "5c42b7d4",
   "metadata": {},
   "outputs": [],
   "source": [
    "results = soup.find_all(class_= \"a-section a-spacing-small s-padding-left-small s-padding-right-small\")"
   ]
  },
  {
   "cell_type": "code",
   "execution_count": 159,
   "id": "e626cbdb",
   "metadata": {},
   "outputs": [],
   "source": [
    "results = soup.find_all('div',{'data-component-type':'s-search-result'})"
   ]
  },
  {
   "cell_type": "code",
   "execution_count": 161,
   "id": "1cf9769c",
   "metadata": {},
   "outputs": [
    {
     "data": {
      "text/plain": [
       "22"
      ]
     },
     "execution_count": 161,
     "metadata": {},
     "output_type": "execute_result"
    }
   ],
   "source": [
    "len(results)"
   ]
  },
  {
   "cell_type": "code",
   "execution_count": 224,
   "id": "a51c0e31",
   "metadata": {},
   "outputs": [],
   "source": [
    "item = results[0]"
   ]
  },
  {
   "cell_type": "code",
   "execution_count": 225,
   "id": "90a0da23",
   "metadata": {},
   "outputs": [],
   "source": [
    "atag = item.h2.a"
   ]
  },
  {
   "cell_type": "code",
   "execution_count": 226,
   "id": "2ec57eb0",
   "metadata": {},
   "outputs": [
    {
     "data": {
      "text/plain": [
       "'How To Win Friends & Influence People, International Bestseller'"
      ]
     },
     "execution_count": 226,
     "metadata": {},
     "output_type": "execute_result"
    }
   ],
   "source": [
    "title = atag.text.strip()\n",
    "title"
   ]
  },
  {
   "cell_type": "code",
   "execution_count": 227,
   "id": "4b36a612",
   "metadata": {},
   "outputs": [
    {
     "data": {
      "text/plain": [
       "'https:amazon.in/gp/slredirect/picassoRedirect.html/ref=pa_sp_atf_aps_sr_pg1_1?ie=UTF8&adId=A03269371LC14WGRP6KNN&url=%2FFriends-Influence-People-International-Bestseller%2Fdp%2F8194899133%2Fref%3Dsr_1_1_sspa%3Fkeywords%3DBooks%26qid%3D1649696266%26sr%3D8-1-spons%26psc%3D1&qualifier=1649696266&id=6708276933000838&widgetName=sp_atf'"
      ]
     },
     "execution_count": 227,
     "metadata": {},
     "output_type": "execute_result"
    }
   ],
   "source": [
    "product_url = \"https:amazon.in\" + atag.get('href')\n",
    "product_url"
   ]
  },
  {
   "cell_type": "code",
   "execution_count": 228,
   "id": "cc1382e4",
   "metadata": {},
   "outputs": [],
   "source": [
    "price_parent = item.find('span','a-price')"
   ]
  },
  {
   "cell_type": "code",
   "execution_count": 267,
   "id": "441a0f16",
   "metadata": {},
   "outputs": [
    {
     "data": {
      "text/plain": [
       "'109'"
      ]
     },
     "execution_count": 267,
     "metadata": {},
     "output_type": "execute_result"
    }
   ],
   "source": [
    "price_parent.find('span','a-offscreen').text[1:]"
   ]
  },
  {
   "cell_type": "code",
   "execution_count": 230,
   "id": "1c457ee7",
   "metadata": {},
   "outputs": [
    {
     "data": {
      "text/plain": [
       "'4.5 out of 5 stars'"
      ]
     },
     "execution_count": 230,
     "metadata": {},
     "output_type": "execute_result"
    }
   ],
   "source": [
    "rating = item.i.text\n",
    "rating"
   ]
  },
  {
   "cell_type": "code",
   "execution_count": 231,
   "id": "45d2da70",
   "metadata": {},
   "outputs": [
    {
     "data": {
      "text/plain": [
       "'63,852'"
      ]
     },
     "execution_count": 231,
     "metadata": {},
     "output_type": "execute_result"
    }
   ],
   "source": [
    "rating_count  = item.find('span',{\"class\":\"a-size-base s-underline-text\"}).text\n",
    "rating_count"
   ]
  },
  {
   "cell_type": "code",
   "execution_count": 233,
   "id": "e77d9d5a",
   "metadata": {},
   "outputs": [
    {
     "data": {
      "text/plain": [
       "'Dale Carnegie'"
      ]
     },
     "execution_count": 233,
     "metadata": {},
     "output_type": "execute_result"
    }
   ],
   "source": [
    "author = item.find('a',{'class':'a-size-base a-link-normal s-underline-text s-underline-link-text s-link-style'}).text.strip()\n",
    "author"
   ]
  },
  {
   "cell_type": "markdown",
   "id": "af501511",
   "metadata": {},
   "source": [
    "### General Function for getting details"
   ]
  },
  {
   "cell_type": "code",
   "execution_count": 237,
   "id": "b910402a",
   "metadata": {},
   "outputs": [],
   "source": [
    "def extract_details(item):\n",
    "    \"\"\"Extracts details of a single record\"\"\"\n",
    "    atag = item.h2.a \n",
    "    title = atag.text.strip()\n",
    "    \n",
    "    product_url = \"https://amazon.in\" + atag.get('href')\n",
    "    price_parent = item.find('span','a-price')\n",
    "    price = price_parent.find('span','a-offscreen').text[1:]\n",
    "    rating = item.i.text\n",
    "    rating_count  = item.find('span',{\"class\":\"a-size-base s-underline-text\"}).text\n",
    "    \n",
    "    try: # used try block as some author names are missing\n",
    "        author = item.find('a',{'class':'a-size-base a-link-normal s-underline-text s-underline-link-text s-link-style'}).text.strip()\n",
    "    except AttributeError:\n",
    "        author = 'unknown'\n",
    "        \n",
    "    output = (title,author,product_url,price,rating, rating_count)\n",
    "    \n",
    "    return output\n"
   ]
  },
  {
   "cell_type": "code",
   "execution_count": 238,
   "id": "5c2b1256",
   "metadata": {},
   "outputs": [],
   "source": [
    "records = []\n",
    "results = soup.find_all('div',{'data-component-type':'s-search-result'})\n",
    "\n",
    "for item in results:\n",
    "    records.append(extract_details(item))"
   ]
  },
  {
   "cell_type": "code",
   "execution_count": 1,
   "id": "5a31dd52",
   "metadata": {
    "collapsed": true
   },
   "outputs": [
    {
     "ename": "NameError",
     "evalue": "name 'records' is not defined",
     "output_type": "error",
     "traceback": [
      "\u001b[1;31m---------------------------------------------------------------------------\u001b[0m",
      "\u001b[1;31mNameError\u001b[0m                                 Traceback (most recent call last)",
      "\u001b[1;32m<ipython-input-1-770d95b9ee81>\u001b[0m in \u001b[0;36m<module>\u001b[1;34m\u001b[0m\n\u001b[1;32m----> 1\u001b[1;33m \u001b[0mrecords\u001b[0m\u001b[1;33m[\u001b[0m\u001b[1;36m0\u001b[0m\u001b[1;33m]\u001b[0m\u001b[1;33m\u001b[0m\u001b[1;33m\u001b[0m\u001b[0m\n\u001b[0m",
      "\u001b[1;31mNameError\u001b[0m: name 'records' is not defined"
     ]
    }
   ],
   "source": [
    "records[0]"
   ]
  },
  {
   "cell_type": "code",
   "execution_count": null,
   "id": "3690bd3b",
   "metadata": {},
   "outputs": [],
   "source": []
  },
  {
   "cell_type": "markdown",
   "id": "688239cf",
   "metadata": {},
   "source": [
    "\n",
    "# Put it all together"
   ]
  },
  {
   "cell_type": "code",
   "execution_count": 281,
   "id": "76e5a5c2",
   "metadata": {},
   "outputs": [],
   "source": [
    "def get_url(search_term):\n",
    "    \"\"\"Generates a URL from the search term.\"\"\"\n",
    "    generic_url = 'https://www.amazon.in/s?k={}'\n",
    "    search_term = search_term.replace(' ','+') # conforming to the amazon's url format for search terms with scapes\n",
    "   \n",
    "    url = generic_url.format(search_term)\n",
    "    \n",
    "    # added page query\n",
    "    url += '&page={}'\n",
    "    \n",
    "    return url\n",
    "def extract_details(item):\n",
    "    \"\"\"Extracts details of a single record\"\"\"\n",
    "    atag = item.h2.a \n",
    "    title = atag.text.strip()\n",
    "    \n",
    "    product_url = \"https://amazon.in\" + atag.get('href')\n",
    "    price_parent = item.find('span','a-price')\n",
    "    \n",
    "    try: # used try block for errors due to missing values\n",
    "        price = price_parent.find('span','a-offscreen').text[1:]\n",
    "        author = item.find('a',{'class':'a-size-base a-link-normal s-underline-text s-underline-link-text s-link-style'}).text.strip()\n",
    "        rating = item.i.text\n",
    "        rating_count  = item.find('span',{\"class\":\"a-size-base s-underline-text\"}).text\n",
    "    except AttributeError:\n",
    "        price = 'unkown'\n",
    "        author = 'unknown'\n",
    "        rating = 'unknown'\n",
    "        rating_count = 'unknown'\n",
    "        \n",
    "    output = (title,author,product_url,price,rating, rating_count)\n",
    "    return output\n",
    "\n",
    "\n",
    "def main(search_term):\n",
    "    \"\"\"Run Main program\"\"\"\n",
    "    # startup the webdriver\n",
    "    driver = webdriver.Chrome(ChromeDriverManager().install())\n",
    "    records = []\n",
    "    url = get_url(search_term)\n",
    "    \n",
    "    for page in range(1,21):\n",
    "        driver.get(url.format(page))\n",
    "        soup = BeautifulSoup(driver.page_source, 'html.parser')\n",
    "        results = soup.find_all('div',{'data-component-type':'s-search-result'})\n",
    "        \n",
    "        for item in results:\n",
    "            record = extract_details(item)\n",
    "            if record:\n",
    "                records.append(record)\n",
    "    \n",
    "    driver.close()\n",
    "    df = pd.DataFrame(records)\n",
    "    df.columns = ['Title','Author','Link','Price',\"Rating\",'Rating Count']\n",
    "    df.to_csv('amazon_books_records.csv', sep=',')\n"
   ]
  },
  {
   "cell_type": "code",
   "execution_count": 291,
   "id": "bd95d6e6",
   "metadata": {},
   "outputs": [
    {
     "data": {
      "text/plain": [
       "'https://www.amazon.in/s?k=Books&page={}'"
      ]
     },
     "execution_count": 291,
     "metadata": {},
     "output_type": "execute_result"
    }
   ],
   "source": [
    "url = get_url('Books')\n",
    "url"
   ]
  },
  {
   "cell_type": "code",
   "execution_count": 292,
   "id": "c61065a2",
   "metadata": {},
   "outputs": [
    {
     "name": "stdout",
     "output_type": "stream",
     "text": [
      "https://www.amazon.in/s?k=Books&page=1\n",
      "https://www.amazon.in/s?k=Books&page=2\n",
      "https://www.amazon.in/s?k=Books&page=3\n",
      "https://www.amazon.in/s?k=Books&page=4\n",
      "https://www.amazon.in/s?k=Books&page=5\n",
      "https://www.amazon.in/s?k=Books&page=6\n",
      "https://www.amazon.in/s?k=Books&page=7\n",
      "https://www.amazon.in/s?k=Books&page=8\n",
      "https://www.amazon.in/s?k=Books&page=9\n",
      "https://www.amazon.in/s?k=Books&page=10\n",
      "https://www.amazon.in/s?k=Books&page=11\n",
      "https://www.amazon.in/s?k=Books&page=12\n",
      "https://www.amazon.in/s?k=Books&page=13\n",
      "https://www.amazon.in/s?k=Books&page=14\n",
      "https://www.amazon.in/s?k=Books&page=15\n",
      "https://www.amazon.in/s?k=Books&page=16\n",
      "https://www.amazon.in/s?k=Books&page=17\n",
      "https://www.amazon.in/s?k=Books&page=18\n",
      "https://www.amazon.in/s?k=Books&page=19\n",
      "https://www.amazon.in/s?k=Books&page=20\n"
     ]
    }
   ],
   "source": [
    "for page in range(1,21):\n",
    "    print(url.format(page))"
   ]
  },
  {
   "cell_type": "code",
   "execution_count": 282,
   "id": "9b12cdaa",
   "metadata": {},
   "outputs": [
    {
     "name": "stderr",
     "output_type": "stream",
     "text": [
      "\n",
      "\n",
      "====== WebDriver manager ======\n",
      "Current google-chrome version is 100.0.4896\n",
      "Get LATEST chromedriver version for 100.0.4896 google-chrome\n",
      "Driver [C:\\Users\\boraw\\.wdm\\drivers\\chromedriver\\win32\\100.0.4896.60\\chromedriver.exe] found in cache\n",
      "<ipython-input-281-b37593881384>:45: DeprecationWarning: executable_path has been deprecated, please pass in a Service object\n",
      "  driver = webdriver.Chrome(ChromeDriverManager().install())\n"
     ]
    }
   ],
   "source": [
    "main('Books')"
   ]
  },
  {
   "cell_type": "markdown",
   "id": "3bd3eda2",
   "metadata": {},
   "source": [
    "---END OF NOTEBOOK ---"
   ]
  }
 ],
 "metadata": {
  "kernelspec": {
   "display_name": "Python 3",
   "language": "python",
   "name": "python3"
  },
  "language_info": {
   "codemirror_mode": {
    "name": "ipython",
    "version": 3
   },
   "file_extension": ".py",
   "mimetype": "text/x-python",
   "name": "python",
   "nbconvert_exporter": "python",
   "pygments_lexer": "ipython3",
   "version": "3.8.8"
  }
 },
 "nbformat": 4,
 "nbformat_minor": 5
}
